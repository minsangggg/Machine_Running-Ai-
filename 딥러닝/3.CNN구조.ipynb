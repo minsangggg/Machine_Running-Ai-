{
 "cells": [
  {
   "cell_type": "markdown",
   "id": "2b47512f",
   "metadata": {},
   "source": [
    "## 합성곱 신경망 구조"
   ]
  },
  {
   "cell_type": "code",
   "execution_count": null,
   "id": "4c1d2476",
   "metadata": {},
   "outputs": [
    {
     "ename": "TypeError",
     "evalue": "Input() got an unexpected keyword argument 'Shape'",
     "output_type": "error",
     "traceback": [
      "\u001b[0;31m---------------------------------------------------------------------------\u001b[0m",
      "\u001b[0;31mTypeError\u001b[0m                                 Traceback (most recent call last)",
      "Cell \u001b[0;32mIn[4], line 3\u001b[0m\n\u001b[1;32m      1\u001b[0m \u001b[38;5;28;01mfrom\u001b[39;00m\u001b[38;5;250m \u001b[39m\u001b[38;5;21;01mtensorflow\u001b[39;00m\u001b[38;5;21;01m.\u001b[39;00m\u001b[38;5;21;01mkeras\u001b[39;00m\u001b[38;5;250m \u001b[39m\u001b[38;5;28;01mimport\u001b[39;00m Sequential, layers\n\u001b[1;32m      2\u001b[0m model\u001b[38;5;241m=\u001b[39mSequential(\n\u001b[0;32m----> 3\u001b[0m     \u001b[43mlayers\u001b[49m\u001b[38;5;241;43m.\u001b[39;49m\u001b[43mInput\u001b[49m\u001b[43m(\u001b[49m\u001b[43mShape\u001b[49m\u001b[38;5;241;43m=\u001b[39;49m\u001b[43m(\u001b[49m\u001b[38;5;241;43m28\u001b[39;49m\u001b[43m,\u001b[49m\u001b[38;5;241;43m28\u001b[39;49m\u001b[43m,\u001b[49m\u001b[38;5;241;43m1\u001b[39;49m\u001b[43m)\u001b[49m\u001b[43m)\u001b[49m,  \u001b[38;5;66;03m#3차원 이미지 1장의 입력\u001b[39;00m\n\u001b[1;32m      4\u001b[0m     layers\u001b[38;5;241m.\u001b[39mDense\n\u001b[1;32m      5\u001b[0m )\n\u001b[1;32m      6\u001b[0m model\n",
      "\u001b[0;31mTypeError\u001b[0m: Input() got an unexpected keyword argument 'Shape'"
     ]
    }
   ],
   "source": [
    "import tensorflow as tf\n",
    "from tensorflow.keras import Sequential, layers\n",
    "model=Sequential(\n",
    "    layers.Input(Shape=(28,28,1)),  #3차원 이미지 1장의 입력\n",
    "    layers.Conv2D(),\n",
    "    layers.MaxPooling2D(),\n",
    "    layers.Conv2D(),\n",
    "    layers.MaxPooling2D(),\n",
    "    layers.Flatten(),\n",
    "    layers.Dense(128, activation='relu'),#분류 계층\n",
    "    layers.Dense(10, activation='softmax') #출력 계층\n",
    ")\n",
    "model"
   ]
  }
 ],
 "metadata": {
  "kernelspec": {
   "display_name": "tf_cuda_env",
   "language": "python",
   "name": "python3"
  },
  "language_info": {
   "codemirror_mode": {
    "name": "ipython",
    "version": 3
   },
   "file_extension": ".py",
   "mimetype": "text/x-python",
   "name": "python",
   "nbconvert_exporter": "python",
   "pygments_lexer": "ipython3",
   "version": "3.10.18"
  }
 },
 "nbformat": 4,
 "nbformat_minor": 5
}

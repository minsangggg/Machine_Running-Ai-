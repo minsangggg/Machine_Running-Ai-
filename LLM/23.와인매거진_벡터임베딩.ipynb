{
 "cells": [
  {
   "cell_type": "code",
   "execution_count": 7,
   "id": "939a3391",
   "metadata": {},
   "outputs": [],
   "source": [
    "from dotenv import load_dotenv\n",
    "import os\n",
    "from langchain_openai import ChatOpenAI\n",
    "from langchain.prompts import ChatPromptTemplate\n",
    "from langchain_core.output_parsers import StrOutputParser\n",
    "\n",
    "load_dotenv()\n",
    "llm = ChatOpenAI(model=\"gpt-4o\", temperature=0)\n",
    "\n",
    "# 음식 풍미 분석용 system prompt\n",
    "describe_dish_system_prompt = \"\"\"\n",
    " Persona:\n",
    "            As a flavor analysis system, I am equipped with a deep understanding of food ingredients, cooking methods, and sensory properties such as taste, texture, and aroma. I can assess and break down the flavor profiles of dishes by identifying the dominant tastes (sweet, sour, salty, bitter, umami) as well as subtler elements like spice levels, richness, freshness, and aftertaste. I am able to compare different foods based on their ingredients and cooking techniques, while also considering cultural influences and typical pairings. My goal is to provide a detailed analysis of a dish’s flavor profile to help users better understand what makes it unique or to aid in choosing complementary foods and drinks.\n",
    "\n",
    "            Role:\n",
    "\n",
    "            1. Flavor Identification: I analyze the dominant and secondary flavors of a dish, highlighting key taste elements such as sweetness, acidity, bitterness, saltiness, umami, and the presence of spices or herbs.\n",
    "            2. Texture and Aroma Analysis: Beyond taste, I assess the mouthfeel and aroma of the dish, taking into account how texture (e.g., creamy, crunchy) and scents (e.g., smoky, floral) contribute to the overall experience.\n",
    "            3. Ingredient Breakdown: I evaluate the role each ingredient plays in the dish’s flavor, including their impact on the dish's balance, richness, or intensity.\n",
    "            4. Culinary Influence: I consider the cultural or regional influences that shape the dish, understanding how traditional cooking methods or unique ingredients affect the overall taste.\n",
    "            5. Food and Drink Pairing: Based on the dish's flavor profile, I suggest complementary food or drink pairings that enhance or balance the dish’s qualities.\n",
    "\n",
    "            Examples:\n",
    "\n",
    "            - Dish Flavor Breakdown:\n",
    "            For a butter garlic shrimp, I identify the richness from the butter, the pungent aroma of garlic, and the subtle sweetness of the shrimp. The dish balances richness with a touch of saltiness, and the soft, tender texture of the shrimp is complemented by the slight crispness from grilling.\n",
    "\n",
    "            - Texture and Aroma Analysis:\n",
    "            A creamy mushroom risotto has a smooth, velvety texture due to the creamy broth and butter. The earthy aroma from the mushrooms enhances the umami flavor, while a sprinkle of Parmesan adds a savory touch with a mild sharpness.\n",
    "\n",
    "            - Ingredient Role Assessment:\n",
    "            In a spicy Thai curry, the coconut milk provides a rich, creamy base, while the lemongrass and lime add freshness and citrus notes. The chilies bring the heat, and the balance between sweet, sour, and spicy elements creates a dynamic flavor profile.\n",
    "\n",
    "            - Cultural Influence:\n",
    "            A traditional Italian margherita pizza draws on the classic combination of fresh tomatoes, mozzarella, and basil. The simplicity of the ingredients allows the flavors to shine, with the tanginess of the tomato sauce balancing the richness of the cheese and the freshness of the basil.\n",
    "\n",
    "            - Food Pairing Example:\n",
    "            For a rich chocolate cake, I would recommend a sweet dessert wine like Port to complement the bitterness of the chocolate, or a light espresso to contrast the sweetness and enhance the richness of the dessert.\n",
    "        \"\"\"\n",
    "        # 모델의 \"뇌 속 역할/성격\" 설정\n",
    "\n",
    "# 음식 풍미 분석 함수\n",
    "def describe_dish_flavor_chain(query):\n",
    "    if query.get(\"image_urls\"):\n",
    "        messages = [\n",
    "            (\"system\", describe_dish_system_prompt),\n",
    "            (\"human\", [\n",
    "                {\"type\": \"text\", \"text\": \"이 요리의 이름과 맛을 한 문장으로 요약해주세요.\"},\n",
    "                *[{\"type\": \"image_url\", \"image_url\": {\"url\": url}} for url in query[\"image_urls\"]]\n",
    "            ])\n",
    "        ]\n",
    "    else:\n",
    "        messages = [\n",
    "            (\"system\", describe_dish_system_prompt),\n",
    "            (\"user\", \"요리 이미지가 제공되지 않았습니다. 이미지를 업로드해주세요.\")\n",
    "        ]\n",
    "\n",
    "    prompt = ChatPromptTemplate.from_messages(messages)\n",
    "    output_parser = StrOutputParser()\n",
    "    chain = prompt | llm | output_parser\n",
    "    return chain.invoke(query)\n",
    "\n"
   ]
  },
  {
   "cell_type": "markdown",
   "id": "321f994f",
   "metadata": {},
   "source": [
    "### 1. 환경 준비 & Pinecone 연결"
   ]
  },
  {
   "cell_type": "code",
   "execution_count": 17,
   "id": "cd9c934a",
   "metadata": {},
   "outputs": [],
   "source": [
    "from dotenv import load_dotenv\n",
    "import os\n",
    "from pinecone import Pinecone\n",
    "from langchain_openai import OpenAIEmbeddings\n",
    "from langchain_pinecone import PineconeVectorStore\n",
    "from langchain.schema.runnable import RunnableLambda\n",
    "\n",
    "load_dotenv()\n",
    "\n",
    "pc = Pinecone(api_key=os.getenv(\"PINECONE_API_KEY\"))\n",
    "\n",
    "#벡터스토어를 이용한 임베딩&적재  \n",
    "embedding = OpenAIEmbeddings(model=\"text-embedding-3-small\")\n",
    "\n",
    "vector_store = PineconeVectorStore(\n",
    "    index_name=(\"wine-reviews\"),\n",
    "    embedding=embedding,\n",
    "    pinecone_api_key=os.getenv(\"PINECONE_API_KEY\")\n",
    ")\n"
   ]
  },
  {
   "cell_type": "markdown",
   "id": "6c4030a8",
   "metadata": {},
   "source": [
    "### 1-1. 기존에 생성한 인덱스가 있을 시"
   ]
  },
  {
   "cell_type": "code",
   "execution_count": 12,
   "id": "5876fb1b",
   "metadata": {},
   "outputs": [
    {
     "name": "stdout",
     "output_type": "stream",
     "text": [
      "{'dimension': 1536,\n",
      " 'index_fullness': 0.0,\n",
      " 'metric': 'cosine',\n",
      " 'namespaces': {'wine_reviews_ns1': {'vector_count': 129971}},\n",
      " 'total_vector_count': 129971,\n",
      " 'vector_type': 'dense'}\n"
     ]
    }
   ],
   "source": [
    "from pinecone import Pinecone\n",
    "import os\n",
    "\n",
    "pc = Pinecone(api_key=os.getenv(\"PINECONE_API_KEY\"))\n",
    "index = pc.Index(\"wine-reviews\")   \n",
    "stats = index.describe_index_stats()\n",
    "print(stats)"
   ]
  },
  {
   "cell_type": "markdown",
   "id": "c40c3d28",
   "metadata": {},
   "source": [
    "### 2.와인 검색 함수"
   ]
  },
  {
   "cell_type": "code",
   "execution_count": 3,
   "id": "d3a6aaf2",
   "metadata": {},
   "outputs": [],
   "source": [
    "def search_wine(dish_flavor: str):\n",
    "    results = vector_store.similarity_search(\n",
    "        dish_flavor,\n",
    "        k=5,\n",
    "        namespace=os.getenv(\"PINECONE_NAMESPACE\")\n",
    "    )\n",
    "    return {\n",
    "        \"dish_flavor\": dish_flavor,\n",
    "        \"wine_reviews\": \"\\n\".join([doc.page_content for doc in results])\n",
    "    }"
   ]
  },
  {
   "cell_type": "markdown",
   "id": "813dc52b",
   "metadata": {},
   "source": [
    "### 3. 와인 추천 함수(from_messages 버전)"
   ]
  },
  {
   "cell_type": "code",
   "execution_count": 4,
   "id": "f6c315f3",
   "metadata": {},
   "outputs": [],
   "source": [
    "from langchain.prompts import ChatPromptTemplate\n",
    "from langchain_core.output_parsers import StrOutputParser\n",
    "\n",
    "def recommend_wine_chain(data):\n",
    "    chat_template = ChatPromptTemplate.from_messages(\n",
    "        [\n",
    "            (\"system\", \"당신은 전문 소믈리에입니다. 음식 풍미와 와인 리뷰를 바탕으로 최적의 와인을 추천하세요.\"),\n",
    "            (\"human\", [\n",
    "                {\"type\": \"text\", \"text\": f\"음식 풍미 설명: {data['dish_flavor']}\"},\n",
    "                {\"type\": \"text\", \"text\": f\"참고할 와인 리뷰:\\n{data['wine_reviews']}\"},\n",
    "                {\"type\": \"text\", \"text\": \"위 정보를 바탕으로 추천 와인과 이유를 알려주세요.\"}\n",
    "            ])\n",
    "        ]\n",
    "    )\n",
    "    chain = chat_template | llm | StrOutputParser()\n",
    "    return chain.invoke({})\n"
   ]
  },
  {
   "cell_type": "markdown",
   "id": "8ccbefb4",
   "metadata": {},
   "source": [
    "### 4.파이프라인 연결"
   ]
  },
  {
   "cell_type": "code",
   "execution_count": 18,
   "id": "733149a7",
   "metadata": {},
   "outputs": [
    {
     "name": "stdout",
     "output_type": "stream",
     "text": [
      "음식의 풍미와 제공된 와인 리뷰를 바탕으로, \"Masseria del Fauno 2010 Primitivo (Puglia)\"를 추천드립니다. 이 와인은 풍부한 과일 향과 부드러운 탄닌이 어우러진 깊고 진한 맛을 제공하며, 특히 크리스마스 향신료, 시나몬, 넛맥, 블랙베리 잼, 플럼 케이크의 달콤한 노트가 두드러집니다. 이러한 풍미는 음식의 풍부한 과일 향과 잘 어울리며, 부드러운 탄닌이 음식의 질감을 보완해 줄 것입니다.\n",
      "\n",
      "또한, 이 와인은 리뷰에서 87점을 받았으며, 이는 상당히 좋은 평가로, 와인의 품질을 보장합니다. Puglia 지역의 Primitivo는 일반적으로 풍부한 과일 향과 부드러운 탄닌을 특징으로 하며, 이 와인은 그 특성을 잘 살리고 있습니다. 따라서, 이 와인은 음식과 함께 즐기기에 적합한 선택이 될 것입니다.\n"
     ]
    }
   ],
   "source": [
    "# 22.ipynb에서 describe_dish_flavor_chain을 불러와야 함\n",
    "# 방법 1: 함수 코드 복사\n",
    "# 방법 2: %run \"./22.와인이미지_랭체인프롬프트.ipynb\"\n",
    "\n",
    "runnable_1 = RunnableLambda(describe_dish_flavor_chain)\n",
    "runnable_2 = RunnableLambda(search_wine)\n",
    "runnable_3 = RunnableLambda(recommend_wine_chain)\n",
    "\n",
    "chain = runnable_1 | runnable_2 | runnable_3\n",
    "\n",
    "response = chain.invoke({\"image_urls\": [\"https://images.vivino.com/thumbs/Z90I3--JRKWlpMA8wdLY-Q_pb_x600.png\"]})\n",
    "print(response)\n"
   ]
  }
 ],
 "metadata": {
  "kernelspec": {
   "display_name": "prompting_env",
   "language": "python",
   "name": "python3"
  },
  "language_info": {
   "codemirror_mode": {
    "name": "ipython",
    "version": 3
   },
   "file_extension": ".py",
   "mimetype": "text/x-python",
   "name": "python",
   "nbconvert_exporter": "python",
   "pygments_lexer": "ipython3",
   "version": "3.12.11"
  }
 },
 "nbformat": 4,
 "nbformat_minor": 5
}

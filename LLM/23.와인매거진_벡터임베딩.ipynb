{
 "cells": [
  {
   "cell_type": "markdown",
   "id": "321f994f",
   "metadata": {},
   "source": [
    "### 1. 환경 준비 & Pinecone 연결"
   ]
  },
  {
   "cell_type": "code",
   "execution_count": null,
   "id": "cd9c934a",
   "metadata": {},
   "outputs": [],
   "source": [
    "from dotenv import load_dotenv\n",
    "import os\n",
    "from pinecone import Pinecone\n",
    "from langchain_openai import OpenAIEmbeddings\n",
    "from langchain_pinecone import PineconeVectorStore\n",
    "from langchain.schema.runnable import RunnableLambda\n",
    "\n",
    "load_dotenv()\n",
    "\n",
    "pc = Pinecone(api_key=os.getenv(\"PINECONE_API_KEY\"))\n",
    "\n",
    "#벡터스토어를 이용한 임베딩&적재  \n",
    "embedding = OpenAIEmbeddings(model=\"text-embedding-3-small\")\n",
    "\n",
    "vector_store = PineconeVectorStore(\n",
    "    index_name=os.getenv(\"wine-reviews\"),\n",
    "    embedding=embedding,\n",
    "    pinecone_api_key=os.getenv(\"PINECONE_API_KEY\")\n",
    ")\n"
   ]
  },
  {
   "cell_type": "markdown",
   "id": "6c4030a8",
   "metadata": {},
   "source": [
    "### 1-1. 기존에 생성한 인덱스가 있을 시"
   ]
  },
  {
   "cell_type": "code",
   "execution_count": 70,
   "id": "5876fb1b",
   "metadata": {},
   "outputs": [
    {
     "name": "stdout",
     "output_type": "stream",
     "text": [
      "{'dimension': 1536,\n",
      " 'index_fullness': 0.0,\n",
      " 'metric': 'cosine',\n",
      " 'namespaces': {'wine_reviews_ns1': {'vector_count': 129971}},\n",
      " 'total_vector_count': 129971,\n",
      " 'vector_type': 'dense'}\n"
     ]
    }
   ],
   "source": [
    "from pinecone import Pinecone\n",
    "import os\n",
    "\n",
    "pc = Pinecone(api_key=os.getenv(\"PINECONE_API_KEY\"))\n",
    "index = pc.Index(\"wine-reviews\")   \n",
    "stats = index.describe_index_stats()\n",
    "print(stats)"
   ]
  },
  {
   "cell_type": "markdown",
   "id": "c40c3d28",
   "metadata": {},
   "source": [
    "### 2.와인 검색 함수"
   ]
  },
  {
   "cell_type": "code",
   "execution_count": 71,
   "id": "d3a6aaf2",
   "metadata": {},
   "outputs": [],
   "source": [
    "def search_wine(dish_flavor: str):\n",
    "    results = vector_store.similarity_search(\n",
    "        dish_flavor,\n",
    "        k=5,\n",
    "        namespace=os.getenv(\"PINECONE_NAMESPACE\")\n",
    "    )\n",
    "    return {\n",
    "        \"dish_flavor\": dish_flavor,\n",
    "        \"wine_reviews\": \"\\n\".join([doc.page_content for doc in results])\n",
    "    }"
   ]
  },
  {
   "cell_type": "markdown",
   "id": "813dc52b",
   "metadata": {},
   "source": [
    "### 3. 와인 추천 함수(from_messages 버전)"
   ]
  },
  {
   "cell_type": "code",
   "execution_count": 72,
   "id": "f6c315f3",
   "metadata": {},
   "outputs": [],
   "source": [
    "from langchain.prompts import ChatPromptTemplate\n",
    "from langchain_core.output_parsers import StrOutputParser\n",
    "\n",
    "def recommend_wine_chain(data):\n",
    "    chat_template = ChatPromptTemplate.from_messages(\n",
    "        [\n",
    "            (\"system\", \"당신은 전문 소믈리에입니다. 음식 풍미와 와인 리뷰를 바탕으로 최적의 와인을 추천하세요.\"),\n",
    "            (\"human\", [\n",
    "                {\"type\": \"text\", \"text\": f\"음식 풍미 설명: {data['dish_flavor']}\"},\n",
    "                {\"type\": \"text\", \"text\": f\"참고할 와인 리뷰:\\n{data['wine_reviews']}\"},\n",
    "                {\"type\": \"text\", \"text\": \"위 정보를 바탕으로 추천 와인과 이유를 알려주세요.\"}\n",
    "            ])\n",
    "        ]\n",
    "    )\n",
    "    chain = chat_template | llm | StrOutputParser()\n",
    "    return chain.invoke({})\n"
   ]
  },
  {
   "cell_type": "markdown",
   "id": "8ccbefb4",
   "metadata": {},
   "source": [
    "### 4.파이프라인 연결"
   ]
  },
  {
   "cell_type": "code",
   "execution_count": 75,
   "id": "733149a7",
   "metadata": {},
   "outputs": [
    {
     "ename": "NameError",
     "evalue": "name 'describe_dish_flavor_chain2' is not defined",
     "output_type": "error",
     "traceback": [
      "\u001b[31m---------------------------------------------------------------------------\u001b[39m",
      "\u001b[31mNameError\u001b[39m                                 Traceback (most recent call last)",
      "\u001b[36mCell\u001b[39m\u001b[36m \u001b[39m\u001b[32mIn[75]\u001b[39m\u001b[32m, line 5\u001b[39m\n\u001b[32m      1\u001b[39m \u001b[38;5;66;03m# 22.ipynb에서 describe_dish_flavor_chain을 불러와야 함\u001b[39;00m\n\u001b[32m      2\u001b[39m \u001b[38;5;66;03m# 방법 1: 함수 코드 복사\u001b[39;00m\n\u001b[32m      3\u001b[39m \u001b[38;5;66;03m# 방법 2: %run \"./22.와인이미지_랭체인프롬프트.ipynb\"\u001b[39;00m\n\u001b[32m----> \u001b[39m\u001b[32m5\u001b[39m runnable_1 = RunnableLambda(\u001b[43mdescribe_dish_flavor_chain2\u001b[49m)\n\u001b[32m      6\u001b[39m runnable_2 = RunnableLambda(search_wine)\n\u001b[32m      7\u001b[39m runnable_3 = RunnableLambda(recommend_wine_chain)\n",
      "\u001b[31mNameError\u001b[39m: name 'describe_dish_flavor_chain2' is not defined"
     ]
    }
   ],
   "source": [
    "# 22.ipynb에서 describe_dish_flavor_chain을 불러와야 함\n",
    "# 방법 1: 함수 코드 복사\n",
    "# 방법 2: %run \"./22.와인이미지_랭체인프롬프트.ipynb\"\n",
    "\n",
    "runnable_1 = RunnableLambda(describe_dish_flavor_chain2)\n",
    "runnable_2 = RunnableLambda(search_wine)\n",
    "runnable_3 = RunnableLambda(recommend_wine_chain)\n",
    "\n",
    "chain = runnable_1 | runnable_2 | runnable_3\n",
    "\n",
    "response = chain.invoke({\"image_urls\": [\"https://images.vivino.com/thumbs/Z90I3--JRKWlpMA8wdLY-Q_pb_x600.png\"]})\n",
    "print(response)\n"
   ]
  }
 ],
 "metadata": {
  "kernelspec": {
   "display_name": "prompting_env",
   "language": "python",
   "name": "python3"
  },
  "language_info": {
   "codemirror_mode": {
    "name": "ipython",
    "version": 3
   },
   "file_extension": ".py",
   "mimetype": "text/x-python",
   "name": "python",
   "nbconvert_exporter": "python",
   "pygments_lexer": "ipython3",
   "version": "3.12.11"
  }
 },
 "nbformat": 4,
 "nbformat_minor": 5
}

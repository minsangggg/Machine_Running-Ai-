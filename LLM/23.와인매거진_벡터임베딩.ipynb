{
 "cells": [
  {
   "cell_type": "code",
   "execution_count": 1,
   "id": "cd9c934a",
   "metadata": {},
   "outputs": [],
   "source": [
    "from pinecone import Pinecone\n",
    "from dotenv import load_dotenv\n",
    "import os\n",
    "\n",
    "load_dotenv()\n",
    "\n",
    "pc = Pinecone(api_key=os.getenv(\"PINECONE_API_KEY\"))"
   ]
  },
  {
   "cell_type": "code",
   "execution_count": 2,
   "id": "d3a6aaf2",
   "metadata": {},
   "outputs": [
    {
     "name": "stderr",
     "output_type": "stream",
     "text": [
      "c:\\Users\\Admin\\miniconda3\\envs\\prompting_env\\Lib\\site-packages\\tqdm\\auto.py:21: TqdmWarning: IProgress not found. Please update jupyter and ipywidgets. See https://ipywidgets.readthedocs.io/en/stable/user_install.html\n",
      "  from .autonotebook import tqdm as notebook_tqdm\n"
     ]
    },
    {
     "data": {
      "text/plain": [
       "{'dimension': 1536,\n",
       " 'index_fullness': 0.0,\n",
       " 'metric': 'cosine',\n",
       " 'namespaces': {'wine_reviews_ns1': {'vector_count': 129971}},\n",
       " 'total_vector_count': 129971,\n",
       " 'vector_type': 'dense'}"
      ]
     },
     "execution_count": 2,
     "metadata": {},
     "output_type": "execute_result"
    }
   ],
   "source": [
    "index_name='wine-reviews'\n",
    "index = pc.Index(index_name)\n",
    "\n",
    "index.describe_index_stats()"
   ]
  },
  {
   "cell_type": "code",
   "execution_count": 3,
   "id": "3c5b33e2",
   "metadata": {},
   "outputs": [
    {
     "name": "stdout",
     "output_type": "stream",
     "text": [
      "0 page_content=': 0\n",
      "country: Italy\n",
      "description: Aromas include tropical fruit, broom, brimstone and dried herb. The palate isn't overly expressive, offering unripened apple, citrus and dried sage alongside brisk acidity.\n",
      "designation: Vulkà Bianco\n",
      "points: 87\n",
      "price: \n",
      "province: Sicily & Sardinia\n",
      "region_1: Etna\n",
      "region_2: \n",
      "taster_name: Kerin O’Keefe\n",
      "taster_twitter_handle: @kerinokeefe\n",
      "title: Nicosia 2013 Vulkà Bianco  (Etna)\n",
      "variety: White Blend\n",
      "winery: Nicosia' metadata={'source': './winemag-data-130k-v2.csv', 'row': 0}\n",
      "1 page_content=': 1\n",
      "country: Portugal\n",
      "description: This is ripe and fruity, a wine that is smooth while still structured. Firm tannins are filled out with juicy red berry fruits and freshened with acidity. It's  already drinkable, although it will certainly be better from 2016.\n",
      "designation: Avidagos\n",
      "points: 87\n",
      "price: 15.0\n",
      "province: Douro\n",
      "region_1: \n",
      "region_2: \n",
      "taster_name: Roger Voss\n",
      "taster_twitter_handle: @vossroger\n",
      "title: Quinta dos Avidagos 2011 Avidagos Red (Douro)\n",
      "variety: Portuguese Red\n",
      "winery: Quinta dos Avidagos' metadata={'source': './winemag-data-130k-v2.csv', 'row': 1}\n",
      "2 page_content=': 2\n",
      "country: US\n",
      "description: Tart and snappy, the flavors of lime flesh and rind dominate. Some green pineapple pokes through, with crisp acidity underscoring the flavors. The wine was all stainless-steel fermented.\n",
      "designation: \n",
      "points: 87\n",
      "price: 14.0\n",
      "province: Oregon\n",
      "region_1: Willamette Valley\n",
      "region_2: Willamette Valley\n",
      "taster_name: Paul Gregutt\n",
      "taster_twitter_handle: @paulgwine\n",
      "title: Rainstorm 2013 Pinot Gris (Willamette Valley)\n",
      "variety: Pinot Gris\n",
      "winery: Rainstorm' metadata={'source': './winemag-data-130k-v2.csv', 'row': 2}\n"
     ]
    }
   ],
   "source": [
    "from langchain_community.document_loaders import CSVLoader\n",
    "\n",
    "loader = CSVLoader(\"./winemag-data-130k-v2.csv\")\n",
    "docs = loader.load()\n",
    "\n",
    "for i, doc in enumerate(docs[:3]):\n",
    "    print(str(i), doc)"
   ]
  },
  {
   "cell_type": "code",
   "execution_count": 5,
   "id": "2480ee10",
   "metadata": {},
   "outputs": [
    {
     "data": {
      "text/plain": [
       "{'id': None,\n",
       " 'metadata': {'source': './winemag-data-130k-v2.csv', 'row': 0},\n",
       " 'page_content': \": 0\\ncountry: Italy\\ndescription: Aromas include tropical fruit, broom, brimstone and dried herb. The palate isn't overly expressive, offering unripened apple, citrus and dried sage alongside brisk acidity.\\ndesignation: Vulkà Bianco\\npoints: 87\\nprice: \\nprovince: Sicily & Sardinia\\nregion_1: Etna\\nregion_2: \\ntaster_name: Kerin O’Keefe\\ntaster_twitter_handle: @kerinokeefe\\ntitle: Nicosia 2013 Vulkà Bianco  (Etna)\\nvariety: White Blend\\nwinery: Nicosia\",\n",
       " 'type': 'Document'}"
      ]
     },
     "execution_count": 5,
     "metadata": {},
     "output_type": "execute_result"
    }
   ],
   "source": [
    "vars(docs[0])"
   ]
  },
  {
   "cell_type": "markdown",
   "id": "74e20ef1",
   "metadata": {},
   "source": [
    "## 벡터스토어를 이용해 임베딩 & 적재"
   ]
  },
  {
   "cell_type": "code",
   "execution_count": 7,
   "id": "3be3622c",
   "metadata": {},
   "outputs": [],
   "source": [
    "from langchain_openai import OpenAIEmbeddings\n",
    "\n",
    "embedding = OpenAIEmbeddings(model=\"text-embedding-3-small\")"
   ]
  },
  {
   "cell_type": "code",
   "execution_count": 7,
   "id": "033556f7",
   "metadata": {},
   "outputs": [
    {
     "name": "stderr",
     "output_type": "stream",
     "text": [
      "c:\\Users\\Admin\\miniconda3\\envs\\prompting_env\\Lib\\site-packages\\langchain_pinecone\\__init__.py:3: LangChainDeprecationWarning: As of langchain-core 0.3.0, LangChain uses pydantic v2 internally. The langchain_core.pydantic_v1 module was a compatibility shim for pydantic v1, and should no longer be used. Please update the code to import from Pydantic directly.\n",
      "\n",
      "For example, replace imports like: `from langchain_core.pydantic_v1 import BaseModel`\n",
      "with: `from pydantic import BaseModel`\n",
      "or the v1 compatibility namespace if you are working in a code base that has not been fully upgraded to pydantic 2 yet. \tfrom pydantic.v1 import BaseModel\n",
      "\n",
      "  from langchain_pinecone.vectorstores import Pinecone, PineconeVectorStore\n"
     ]
    }
   ],
   "source": [
    "from langchain_pinecone import PineconeVectorStore\n",
    "\n",
    "vector_store = PineconeVectorStore.from_documents(\n",
    "    docs, \n",
    "    embedding, \n",
    "    index_name=\"wine-reviews\", \n",
    "    namespace=\"wine_reviews_ns1\"\n",
    ")"
   ]
  },
  {
   "cell_type": "markdown",
   "id": "abde4714",
   "metadata": {},
   "source": [
    "### 기존 인덱스 불러오기"
   ]
  },
  {
   "cell_type": "code",
   "execution_count": 8,
   "id": "a9c97b8c",
   "metadata": {},
   "outputs": [],
   "source": [
    "from langchain_pinecone import PineconeVectorStore\n",
    "\n",
    "vector_store = PineconeVectorStore.from_existing_index(\n",
    "    index_name=\"wine-reviews\",     # 어제 만든 인덱스 이름\n",
    "    embedding=embedding,\n",
    "    namespace=\"wine_reviews_ns1\"   # 어제 지정한 네임스페이스\n",
    ")"
   ]
  },
  {
   "cell_type": "code",
   "execution_count": 9,
   "id": "107568be",
   "metadata": {},
   "outputs": [
    {
     "data": {
      "text/plain": [
       "[Document(id='e41efd07-36ce-40d5-9d91-365bcd6b5eef', metadata={'row': 47937.0, 'source': './winemag-data-130k-v2.csv'}, page_content=': 47937\\ncountry: US\\ndescription: As sweet as honey, with Lifesaver candy pineapple, golden apricot preserves, Meyer lemon custard pie and Asian spice flavors. Calls for very rich fare, such as scallops sautéed in butter, served with a creamy risotto.\\ndesignation: \\npoints: 88\\nprice: 22.0\\nprovince: California\\nregion_1: Sonoma County\\nregion_2: Sonoma\\ntaster_name: \\ntaster_twitter_handle: \\ntitle: Wellington 2007 Roussanne (Sonoma County)\\nvariety: Roussanne\\nwinery: Wellington'),\n",
       " Document(id='9406e6ec-b63f-4d20-b831-10bb8fbd8656', metadata={'row': 45019.0, 'source': './winemag-data-130k-v2.csv'}, page_content=\": 45019\\ncountry: US\\ndescription: Once again this designate amazes with a surfeit of beautifully integrated flavors. Mushrooms and baking spices adorn an explosion of strawberry pastries. There's plenty of ripe cherry fruit also, and a long, polished, lip-licking finish.\\ndesignation: Winderlea Vineyard\\npoints: 94\\nprice: 105.0\\nprovince: Oregon\\nregion_1: Dundee Hills\\nregion_2: Willamette Valley\\ntaster_name: Paul Gregutt\\ntaster_twitter_handle: @paulgwine\\ntitle: Adelsheim 2013 Winderlea Vineyard Pinot Noir (Dundee Hills)\\nvariety: Pinot Noir\\nwinery: Adelsheim\"),\n",
       " Document(id='b4b040d7-5ec9-47ea-92bb-c84bb147cc75', metadata={'row': 28870.0, 'source': './winemag-data-130k-v2.csv'}, page_content=': 28870\\ncountry: US\\ndescription: A blend of Riesling, Muscat and Viognier, this wine offers aromas of white flowers, orange peel and citrus. It drinks off dry, with abundant mandarin flavors that linger.\\ndesignation: Chicken Dinner\\npoints: 87\\nprice: 16.0\\nprovince: Idaho\\nregion_1: \\nregion_2: \\ntaster_name: Sean P. Sullivan\\ntaster_twitter_handle: @wawinereport\\ntitle: Huston 2014 Chicken Dinner White\\nvariety: White Blend\\nwinery: Huston'),\n",
       " Document(id='3eb6c790-1743-4757-b67f-63e71bda7497', metadata={'row': 101653.0, 'source': './winemag-data-130k-v2.csv'}, page_content=': 101653\\ncountry: South Africa\\ndescription: Low-intensity aromas of grilled apple, quince and pear purée dance on the bouquet, with a faint hint of straw in the background. Bright acidity and a pronounced citrus flavor results in a fresh and accessible mouthfeel, while the finish offers touches of toasted challah and clove. Drink now.\\ndesignation: Anima\\npoints: 90\\nprice: 15.0\\nprovince: Paarl\\nregion_1: \\nregion_2: \\ntaster_name: Lauren Buzzeo\\ntaster_twitter_handle: @laurbuzz\\ntitle: Avondale 2014 Anima Chenin Blanc (Paarl)\\nvariety: Chenin Blanc\\nwinery: Avondale'),\n",
       " Document(id='5a89101f-46df-4989-84da-dfc7ade85b89', metadata={'row': 46509.0, 'source': './winemag-data-130k-v2.csv'}, page_content=': 46509\\ncountry: US\\ndescription: Somewhat subdued white flower, lime and peach aromas are followed by medium-sweet stone-fruit flavors. It goes down easy.\\ndesignation: Four Legged\\npoints: 86\\nprice: 15.0\\nprovince: Washington\\nregion_1: Washington\\nregion_2: Washington Other\\ntaster_name: Sean P. Sullivan\\ntaster_twitter_handle: @wawinereport\\ntitle: Dunham 2014 Four Legged White (Washington)\\nvariety: White Blend\\nwinery: Dunham')]"
      ]
     },
     "execution_count": 9,
     "metadata": {},
     "output_type": "execute_result"
    }
   ],
   "source": [
    "results = vector_store.similarity_search(\n",
    "    \"달콤한 맛을 느낄 수 있는 와인\", \n",
    "    k=5,\n",
    "    namespace=\"wine_reviews_ns1\"\n",
    ")\n",
    "\n",
    "results"
   ]
  },
  {
   "cell_type": "markdown",
   "id": "d3b85fd1",
   "metadata": {},
   "source": [
    "## Search_wine"
   ]
  },
  {
   "cell_type": "code",
   "execution_count": 22,
   "id": "bd841beb",
   "metadata": {},
   "outputs": [],
   "source": [
    "import os\n",
    "\n",
    "def search_wine(dish_flavor):\n",
    "    results = vector_store.similarity_search(\n",
    "        dish_flavor,\n",
    "        k=5,\n",
    "        namespace=os.getenv(\"PINECONE_NAMESPACE\")\n",
    "    )\n",
    "\n",
    "    return {\n",
    "        \"dish_flavor\": dish_flavor,\n",
    "        \"wine_reviews\": \"\\n\".join([doc.page_content for doc in results])\n",
    "    }\n"
   ]
  },
  {
   "cell_type": "code",
   "execution_count": 23,
   "id": "73d70921",
   "metadata": {},
   "outputs": [
    {
     "name": "stdout",
     "output_type": "stream",
     "text": [
      "이 요리는 판차넬라 샐러드로, 신선한 토마토와 바질의 상큼함이 빵의 고소함과 어우러져 상쾌하고 풍부한 맛을 냅니다.\n",
      "\n"
     ]
    }
   ],
   "source": [
    "from langchain.schema.runnable import RunnableLambda\n",
    "\n",
    "\n",
    "taste_query =  \"이 요리는 판차넬라 샐러드로, 신선한 토마토와 바질의 상큼함이 빵의 고소함과 어우러져 상쾌하고 풍부한 맛을 냅니다.\"\n",
    "# search_wine 함수는 이전 셀에서 정의한 함수 사용\n",
    "runnable = RunnableLambda(search_wine)\n",
    "\n",
    "# taste_query는 검색할 쿼리(예: \"달콤한 치킨 요리\")\n",
    "response = runnable.invoke(taste_query)\n",
    "\n",
    "# 결과 출력\n",
    "print(response[\"dish_flavor\"])\n",
    "print(response[\"wine_reviews\"])\n"
   ]
  },
  {
   "cell_type": "markdown",
   "id": "a4ea2956",
   "metadata": {},
   "source": [
    "## Recommend_wine"
   ]
  },
  {
   "cell_type": "code",
   "execution_count": 25,
   "id": "0c573036",
   "metadata": {},
   "outputs": [],
   "source": [
    "def recommend_wine_chain(query):\n",
    "    \n",
    "  chat_template = ChatPromptTemplate.from_messages(\n",
    "    [\n",
    "      ('system', SYSTEM_PROMPT),\n",
    "      ('human', [ {'type': 'text', 'text':query['text']},\n",
    "                  {'type':'image_url', 'image_url':  {'url': query['image_url']}}])\n",
    "    ]\n",
    "  )\n",
    "  chain = chat_template|llm|output_parser\n",
    "  return chain"
   ]
  },
  {
   "cell_type": "markdown",
   "id": "eb797ec6",
   "metadata": {},
   "source": [
    "## chain 연결"
   ]
  },
  {
   "cell_type": "code",
   "execution_count": 26,
   "id": "7a959269",
   "metadata": {},
   "outputs": [
    {
     "ename": "NameError",
     "evalue": "name 'describe_dish_flavor_chain' is not defined",
     "output_type": "error",
     "traceback": [
      "\u001b[31m---------------------------------------------------------------------------\u001b[39m",
      "\u001b[31mNameError\u001b[39m                                 Traceback (most recent call last)",
      "\u001b[36mCell\u001b[39m\u001b[36m \u001b[39m\u001b[32mIn[26]\u001b[39m\u001b[32m, line 1\u001b[39m\n\u001b[32m----> \u001b[39m\u001b[32m1\u001b[39m runnable_1=RunnableLambda(\u001b[43mdescribe_dish_flavor_chain\u001b[49m)\n\u001b[32m      2\u001b[39m runnable_2=RunnableLambda(search_wine)\n\u001b[32m      3\u001b[39m runnable_3=RunnableLambda(recommend_wine_chain)\n",
      "\u001b[31mNameError\u001b[39m: name 'describe_dish_flavor_chain' is not defined"
     ]
    }
   ],
   "source": [
    "runnable_1=RunnableLambda(describe_dish_flavor_chain)\n",
    "runnable_2=RunnableLambda(search_wine)\n",
    "runnable_3=RunnableLambda(recommend_wine_chain)\n",
    "\n",
    "chain=runnable_1|runnable_2|runnable_3"
   ]
  },
  {
   "cell_type": "code",
   "execution_count": null,
   "id": "bd7b2996",
   "metadata": {},
   "outputs": [],
   "source": [
    "chain.get_graph().print_ascii()"
   ]
  },
  {
   "cell_type": "code",
   "execution_count": null,
   "id": "d3c5de50",
   "metadata": {},
   "outputs": [],
   "source": [
    "%pip install -qU grandalf"
   ]
  },
  {
   "cell_type": "code",
   "execution_count": null,
   "id": "b6752e5e",
   "metadata": {},
   "outputs": [],
   "source": [
    "#음식이미지 링크> 음식찾아서 음식맛> 음식맛이 와인평에 있는 와인검색>와인평+음식맛>소믈리에메세지\n",
    "chain.get_graph().print_ascii()"
   ]
  },
  {
   "cell_type": "code",
   "execution_count": null,
   "id": "ac373221",
   "metadata": {},
   "outputs": [],
   "source": [
    "response=chain.invoke(\n",
    "    {\n",
    "        \"image_url\":\"https://www.stockfood.com/Sites/StockFood/Documents/Homepage/News//en/16.jpg\"\n",
    "    }\n",
    "    \n",
    "    \n",
    ")"
   ]
  },
  {
   "cell_type": "code",
   "execution_count": null,
   "id": "e12685fc",
   "metadata": {},
   "outputs": [],
   "source": [
    "response = chain.invoke(query_2)\n",
    "\n",
    "response"
   ]
  }
 ],
 "metadata": {
  "kernelspec": {
   "display_name": "prompting_env",
   "language": "python",
   "name": "python3"
  },
  "language_info": {
   "codemirror_mode": {
    "name": "ipython",
    "version": 3
   },
   "file_extension": ".py",
   "mimetype": "text/x-python",
   "name": "python",
   "nbconvert_exporter": "python",
   "pygments_lexer": "ipython3",
   "version": "3.12.11"
  }
 },
 "nbformat": 4,
 "nbformat_minor": 5
}

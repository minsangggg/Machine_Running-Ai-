{
 "cells": [
  {
   "cell_type": "markdown",
   "id": "b0d54e9f",
   "metadata": {},
   "source": [
    "### 1.환경준비"
   ]
  },
  {
   "cell_type": "code",
   "execution_count": 1,
   "id": "353d3313",
   "metadata": {},
   "outputs": [],
   "source": [
    "from dotenv import load_dotenv\n",
    "import os\n",
    "from langchain_openai import ChatOpenAI\n",
    "from langchain.prompts import ChatPromptTemplate\n",
    "from langchain_core.output_parsers import StrOutputParser\n",
    "\n",
    "load_dotenv()\n",
    "llm = ChatOpenAI(model=\"gpt-4o\", temperature=0)"
   ]
  },
  {
   "cell_type": "markdown",
   "id": "68bd8c43",
   "metadata": {},
   "source": [
    "### 2.System Prompt"
   ]
  },
  {
   "cell_type": "code",
   "execution_count": 2,
   "id": "dba82f79",
   "metadata": {},
   "outputs": [],
   "source": [
    "describe_dish_system_prompt = \"\"\"\n",
    " Persona:\n",
    "            As a flavor analysis system, I am equipped with a deep understanding of food ingredients, cooking methods, and sensory properties such as taste, texture, and aroma. I can assess and break down the flavor profiles of dishes by identifying the dominant tastes (sweet, sour, salty, bitter, umami) as well as subtler elements like spice levels, richness, freshness, and aftertaste. I am able to compare different foods based on their ingredients and cooking techniques, while also considering cultural influences and typical pairings. My goal is to provide a detailed analysis of a dish’s flavor profile to help users better understand what makes it unique or to aid in choosing complementary foods and drinks.\n",
    "\n",
    "            Role:\n",
    "\n",
    "            1. Flavor Identification: I analyze the dominant and secondary flavors of a dish, highlighting key taste elements such as sweetness, acidity, bitterness, saltiness, umami, and the presence of spices or herbs.\n",
    "            2. Texture and Aroma Analysis: Beyond taste, I assess the mouthfeel and aroma of the dish, taking into account how texture (e.g., creamy, crunchy) and scents (e.g., smoky, floral) contribute to the overall experience.\n",
    "            3. Ingredient Breakdown: I evaluate the role each ingredient plays in the dish’s flavor, including their impact on the dish's balance, richness, or intensity.\n",
    "            4. Culinary Influence: I consider the cultural or regional influences that shape the dish, understanding how traditional cooking methods or unique ingredients affect the overall taste.\n",
    "            5. Food and Drink Pairing: Based on the dish's flavor profile, I suggest complementary food or drink pairings that enhance or balance the dish’s qualities.\n",
    "\n",
    "            Examples:\n",
    "\n",
    "            - Dish Flavor Breakdown:\n",
    "            For a butter garlic shrimp, I identify the richness from the butter, the pungent aroma of garlic, and the subtle sweetness of the shrimp. The dish balances richness with a touch of saltiness, and the soft, tender texture of the shrimp is complemented by the slight crispness from grilling.\n",
    "\n",
    "            - Texture and Aroma Analysis:\n",
    "            A creamy mushroom risotto has a smooth, velvety texture due to the creamy broth and butter. The earthy aroma from the mushrooms enhances the umami flavor, while a sprinkle of Parmesan adds a savory touch with a mild sharpness.\n",
    "\n",
    "            - Ingredient Role Assessment:\n",
    "            In a spicy Thai curry, the coconut milk provides a rich, creamy base, while the lemongrass and lime add freshness and citrus notes. The chilies bring the heat, and the balance between sweet, sour, and spicy elements creates a dynamic flavor profile.\n",
    "\n",
    "            - Cultural Influence:\n",
    "            A traditional Italian margherita pizza draws on the classic combination of fresh tomatoes, mozzarella, and basil. The simplicity of the ingredients allows the flavors to shine, with the tanginess of the tomato sauce balancing the richness of the cheese and the freshness of the basil.\n",
    "\n",
    "            - Food Pairing Example:\n",
    "            For a rich chocolate cake, I would recommend a sweet dessert wine like Port to complement the bitterness of the chocolate, or a light espresso to contrast the sweetness and enhance the richness of the dessert.\n",
    "        \"\"\"\n",
    "        # 모델의 \"뇌 속 역할/성격\" 설정"
   ]
  },
  {
   "cell_type": "markdown",
   "id": "e777ecc2",
   "metadata": {},
   "source": [
    "### 3.음식 풍미 분석 함수"
   ]
  },
  {
   "cell_type": "code",
   "execution_count": 6,
   "id": "451d00c8",
   "metadata": {},
   "outputs": [],
   "source": [
    "def describe_dish_flavor_chain2(query):\n",
    "    if query.get(\"image_urls\"):\n",
    "        messages = [\n",
    "            (\"system\", describe_dish_system_prompt),\n",
    "            (\"human\", [\n",
    "                {\"type\": \"text\", \"text\": \"이 요리의 이름과 맛을 한 문장으로 요약해주세요.\"},\n",
    "                *[{\"type\": \"image_url\", \"image_url\": {\"url\": url}} for url in query[\"image_urls\"]]\n",
    "            ])\n",
    "        ]\n",
    "    else:\n",
    "        messages = [\n",
    "            (\"system\", describe_dish_system_prompt),\n",
    "            (\"user\", \"요리 이미지가 제공되지 않았습니다. 이미지를 업로드해주세요.\")\n",
    "        ]\n",
    "\n",
    "    prompt = ChatPromptTemplate.from_messages(messages)\n",
    "    output_parser = StrOutputParser()\n",
    "    chain = prompt | llm | output_parser\n",
    "    return chain.invoke(query)\n"
   ]
  },
  {
   "cell_type": "markdown",
   "id": "4e8c06a1",
   "metadata": {},
   "source": [
    "### 4.테스트"
   ]
  },
  {
   "cell_type": "code",
   "execution_count": null,
   "id": "4b0e272f",
   "metadata": {},
   "outputs": [],
   "source": [
    "# 테스트\n",
    "describe_dish_flavor_chain({\n",
    "    \"image_urls\": [\"https://images.vivino.com/thumbs/Z90I3--JRKWlpMA8wdLY-Q_pb_x600.png\"]\n",
    "})"
   ]
  },
  {
   "cell_type": "code",
   "execution_count": 5,
   "id": "c342fbaa",
   "metadata": {},
   "outputs": [
    {
     "name": "stdout",
     "output_type": "stream",
     "text": [
      "(query)\n"
     ]
    }
   ],
   "source": [
    "import inspect\n",
    "print(inspect.signature(describe_dish_flavor_chain))"
   ]
  }
 ],
 "metadata": {
  "kernelspec": {
   "display_name": "prompting_env",
   "language": "python",
   "name": "python3"
  },
  "language_info": {
   "codemirror_mode": {
    "name": "ipython",
    "version": 3
   },
   "file_extension": ".py",
   "mimetype": "text/x-python",
   "name": "python",
   "nbconvert_exporter": "python",
   "pygments_lexer": "ipython3",
   "version": "3.12.11"
  }
 },
 "nbformat": 4,
 "nbformat_minor": 5
}

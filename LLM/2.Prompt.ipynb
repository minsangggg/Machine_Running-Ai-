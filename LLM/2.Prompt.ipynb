{
 "cells": [
  {
   "cell_type": "code",
   "execution_count": null,
   "id": "cadd3802",
   "metadata": {},
   "outputs": [
    {
     "name": "stdout",
     "output_type": "stream",
     "text": [
      "API Key configured: True\n"
     ]
    }
   ],
   "source": [
    "from dotenv import load_dotenv\n",
    "import os\n",
    "\n",
    "load_dotenv()\n",
    "\n",
    "openai_api_key = os.getenv(\"OPENAI_API_KEY\")\n",
    "print(\"API Key configured:\", \"OPENAI_API_KEY\" in os.environ)\n",
    "\n",
    "from openai import OpenAI\n",
    "client = OpenAI()\n"
   ]
  },
  {
   "cell_type": "code",
   "execution_count": 2,
   "id": "40d2fd23",
   "metadata": {},
   "outputs": [],
   "source": [
    "response=client.chat.completions.create(\n",
    "    model=\"gpt-4o-mini\",   #omni model\n",
    "                          #o4는 reasoning모델\n",
    "    messages=[\n",
    "        {'role':'user', 'content':\"파이썬에 대해 알려줘\"}\n",
    "    ]\n",
    ")"
   ]
  },
  {
   "cell_type": "code",
   "execution_count": 5,
   "id": "2e22ba2d",
   "metadata": {},
   "outputs": [
    {
     "data": {
      "text/plain": [
       "'파이썬(Python)은 1991년에 귀도 반 로섬(Guido van Rossum)에 의해 개발된 고급 프로그래밍 언어입니다. 파이썬은 다양한 프로그래밍 패러다임을 지원하며, 문법이 간단하고 이해하기 쉬워 초보자와 전문가 모두에게 인기 있는 언어입니다. 다음은 파이썬의 주요 특징들입니다:\\n\\n1. **쉬운 문법**: 파이썬은 가독성이 높은 코드 작성을 목표로 설계되어 있어, 다른 언어들에 비해 문법이 간단한 편입니다.\\n\\n2. **다양한 라이브러리와 프레임워크**: 파이썬은 데이터 분석(예: Pandas, NumPy), 웹 개발(예: Django, Flask), 머신러닝(예: TensorFlow, scikit-learn) 등 다양한 분야에서 사용할 수 있는 풍부한 라이브러리와 프레임워크가 있습니다.\\n\\n3. **크로스 플랫폼**: 파이썬은 Windows, macOS, Linux 등 다양한 운영체제에서 실행될 수 있습니다.\\n\\n4. **동적 타입(Dynamic Typing)**: 변수의 타입을 명시적으로 선언하지 않아도 되며, 런타임 중에 타입이 결정됩니다.\\n\\n5. **객체 지향 프로그래밍**: 파이썬은 객체 지향 프로그래밍(OOP)을 지원하여 코드의 재사용성과 구조화를 용이하게 합니다.\\n\\n6. **커뮤니티와 지원**: 파이썬은 매우 활발한 커뮤니티가 있어, 문제가 발생했을 때 많은 자료를 찾거나 도움을 받을 수 있습니다.\\n\\n파이썬의 사용 예시로는 웹 어플리케이션, 데이터 과학, 인공지능, 자동화 스크립트, 게임 개발 등이 있습니다.\\n\\n기초적인 파이썬 코드 예시는 다음과 같습니다:\\n\\n```python\\n# Hello World 출력\\nprint(\"Hello, World!\")\\n\\n# 리스트와 반복문\\nfruits = [\"사과\", \"바나나\", \"체리\"]\\nfor fruit in fruits:\\n    print(fruit)\\n\\n# 함수 정의\\ndef add(a, b):\\n    return a + b\\n\\nresult = add(3, 5)\\nprint(result)  # 8 출력\\n```\\n\\n더 알고 싶은 내용이 있으면 말씀해 주세요!'"
      ]
     },
     "execution_count": 5,
     "metadata": {},
     "output_type": "execute_result"
    }
   ],
   "source": [
    "response.choices[0].message.content"
   ]
  },
  {
   "cell_type": "code",
   "execution_count": 6,
   "id": "47f7ea41",
   "metadata": {},
   "outputs": [
    {
     "name": "stdout",
     "output_type": "stream",
     "text": [
      "ChatGPT 답변: 안녕하세요! 현재 날씨 정보는 실시간으로 제공할 수 없지만, 지역에 따라 날씨를 확인하는 방법을 알려드릴 수 있어요. 기상청 웹사이트나 날씨 앱을 통해 최신 정보를 확인하시길 권장합니다. 도움이 필요하시면 다른 질문도 해주세요!\n"
     ]
    }
   ],
   "source": [
    "message={'role':'user', 'content':\"안녕하세요, 오늘 날씨는 어떤가요?\"}\n",
    "response=client.chat.completions.create(\n",
    "    model=\"gpt-4o-mini\", \n",
    "    messages=[message]\n",
    ")\n",
    "assistant_reply=response.choices[0].message.content\n",
    "print(\"ChatGPT 답변:\", assistant_reply)"
   ]
  },
  {
   "cell_type": "markdown",
   "id": "4587bd4c",
   "metadata": {},
   "source": [
    "## 출력 형식 지정"
   ]
  },
  {
   "cell_type": "code",
   "execution_count": null,
   "id": "cbe83995",
   "metadata": {},
   "outputs": [
    {
     "name": "stdout",
     "output_type": "stream",
     "text": [
      "ChatGPT 답변: {\n",
      "  \"weather\": \"맑음\",\n",
      "  \"temperature\": \"20°C\"\n",
      "} \n",
      "\n",
      "\t\n"
     ]
    }
   ],
   "source": [
    "message={'role':'user', 'content':\"오늘 서울 날씨를 json 형태로 제공해. 키는 weather, temperature로 설정해 \"}\n",
    "response=client.chat.completions.create(\n",
    "    model=\"gpt-4o-mini\", \n",
    "    messages=[message],\n",
    "    response_format={'type':'json_object'}  #type 변형필요,파싱\n",
    ")\n",
    "assistant_reply=response.choices[0].message.content\n",
    "print(\"ChatGPT 답변:\", assistant_reply)"
   ]
  },
  {
   "cell_type": "code",
   "execution_count": 13,
   "id": "f5837334",
   "metadata": {},
   "outputs": [
    {
     "name": "stdout",
     "output_type": "stream",
     "text": [
      "ChatGPT 답변: {\"weather\": \"맑음\", \"temperature\": \"20도\"}\n"
     ]
    }
   ],
   "source": [
    "message={'role':'user', 'content':\"오늘 부산 날씨를 json 형태로 제공해. 키는 weather, temperature로 설정해 \"}\n",
    "response=client.chat.completions.create(\n",
    "    model=\"gpt-4o-mini\", \n",
    "    messages=[message],\n",
    "    response_format={'type':'json_object'}  #type 변형필요,파싱\n",
    ")\n",
    "assistant_reply=response.choices[0].message.content\n",
    "print(\"ChatGPT 답변:\", assistant_reply)"
   ]
  },
  {
   "cell_type": "code",
   "execution_count": 12,
   "id": "d3a71249",
   "metadata": {},
   "outputs": [
    {
     "data": {
      "text/plain": [
       "dict_keys(['weather', 'temperature'])"
      ]
     },
     "execution_count": 12,
     "metadata": {},
     "output_type": "execute_result"
    }
   ],
   "source": [
    "import json\n",
    "data=json.loads(assistant_reply)\n",
    "data.keys()"
   ]
  },
  {
   "cell_type": "code",
   "execution_count": 26,
   "id": "dee8f827",
   "metadata": {},
   "outputs": [
    {
     "name": "stdout",
     "output_type": "stream",
     "text": [
      "ChatGPT 답변: 오늘 서울 날씨는 현재 맑음이고, 온도는 15°C입니다. 오늘 부산 날씨는 현재 구름 많음이고, 온도는 17°C입니다.\n"
     ]
    }
   ],
   "source": [
    "# 도시명(서울)의 날씨는 현재 ...이고, 온도는  ...입니다.\n",
    "\n",
    "\n",
    "message = {\n",
    "    'role': 'user',\n",
    "    'content': \"\"\"\n",
    "    서울과 부산의 오늘 날씨를 반드시 json 형태로 제공해.\n",
    "    {\n",
    "      \"서울\": {\"weather\": \"...\", \"temperature\": \"...\"},\n",
    "      \"부산\": {\"weather\": \"...\", \"temperature\": \"...\"}\n",
    "    }\n",
    "    \"\"\"\n",
    "}\n",
    "\n",
    "response = client.chat.completions.create(\n",
    "    model=\"gpt-4o-mini\", \n",
    "    messages=[message],\n",
    "    response_format={'type':'json_object'}  # JSON 강제\n",
    ")\n",
    "\n",
    "data = json.loads(response.choices[0].message.content)\n",
    "\n",
    "assistant_reply = (\n",
    "    f\"오늘 서울 날씨는 현재 {data['서울']['weather']}이고, 온도는 {data['서울']['temperature']}입니다. \"\n",
    "    f\"오늘 부산 날씨는 현재 {data['부산']['weather']}이고, 온도는 {data['부산']['temperature']}입니다.\"\n",
    ")\n",
    "\n",
    "print(\"ChatGPT 답변:\", assistant_reply)"
   ]
  },
  {
   "cell_type": "markdown",
   "id": "71bd33d8",
   "metadata": {},
   "source": [
    "## CoT 프롬프트"
   ]
  },
  {
   "cell_type": "code",
   "execution_count": 27,
   "id": "0972a5ea",
   "metadata": {},
   "outputs": [
    {
     "name": "stdout",
     "output_type": "stream",
     "text": [
      "CoT 적용전: 철수는 처음에 사과 10개를 가지고 있었습니다. 그 중 3개를 먹었으므로 남은 사과는 10 - 3 = 7개입니다. 이후 5개를 더 구입했으므로 현재 가지고 있는 사과는 7 + 5 = 12개입니다. \n",
      "\n",
      "따라서 철수가 현재 가지고 있는 사과는 12개입니다.\n"
     ]
    }
   ],
   "source": [
    "question=\"철수는 사과 10개를 가지고 있었는데, 그 중 3개를 먹은 후 5개를 더 구입했습니다. 철수가 현재 가지고 있는 사과는 몇 개일까요?\"\n",
    "response=client.chat.completions.create(\n",
    "    messages=[{'role':'user','content':question}],\n",
    "    model='gpt-4o-mini',\n",
    "    temperature=0\n",
    ")\n",
    "print('CoT 적용전:', response.choices[0].message.content)"
   ]
  },
  {
   "cell_type": "code",
   "execution_count": 30,
   "id": "10dbfa8b",
   "metadata": {},
   "outputs": [
    {
     "name": "stdout",
     "output_type": "stream",
     "text": [
      "CoT 적용후: 단계별로 생각해보겠습니다.\n",
      "\n",
      "1. 철수는 처음에 사과 10개를 가지고 있었습니다.\n",
      "2. 그 중 3개를 먹었습니다. \n",
      "   - 10개 - 3개 = 7개\n",
      "3. 이후에 5개를 더 구입했습니다.\n",
      "   - 7개 + 5개 = 12개\n",
      "\n",
      "따라서, 철수가 현재 가지고 있는 사과는 12개입니다.\n"
     ]
    }
   ],
   "source": [
    "cot_prompt='(생각을 단계별로 진행해)\\n'+question\n",
    "response=client.chat.completions.create(\n",
    "    messages=[{'role':'user','content':cot_prompt}],\n",
    "    model='gpt-4o-mini',\n",
    "    temperature=0\n",
    ")\n",
    "print('CoT 적용후:', response.choices[0].message.content)"
   ]
  },
  {
   "cell_type": "code",
   "execution_count": null,
   "id": "89526965",
   "metadata": {},
   "outputs": [
    {
     "name": "stdout",
     "output_type": "stream",
     "text": [
      "CoT 적용전: 어떤 수를 \\( x \\)라고 할 때, 문제에서 주어진 조건을 수식으로 표현할 수 있습니다. \n",
      "\n",
      "3배한 결과에 4배를 더하면 19가 된다는 것은 다음과 같은 식으로 나타낼 수 있습니다:\n",
      "\n",
      "\\[\n",
      "3x + 4 = 19\n",
      "\\]\n",
      "\n",
      "이제 이 식을 풀어보겠습니다.\n",
      "\n",
      "1. 양변에서 4를 빼줍니다:\n",
      "\n",
      "\\[\n",
      "3x = 19 - 4\n",
      "\\]\n",
      "\\[\n",
      "3x = 15\n",
      "\\]\n",
      "\n",
      "2. 양변을 3으로 나눕니다:\n",
      "\n",
      "\\[\n",
      "x = \\frac{15}{3}\n",
      "\\]\n",
      "\\[\n",
      "x = 5\n",
      "\\]\n",
      "\n",
      "따라서, 그 수는 \\( 5 \\)입니다.\n"
     ]
    }
   ],
   "source": [
    "question=\"어떤 수를 3배한 결과에 4배를 더하면 19가 됩니다. 그 수는 무엇일까요?\"\n",
    "response=client.chat.completions.create(\n",
    "    messages=[{'role':'user','content':question}],\n",
    "    model='gpt-4o-mini',\n",
    "    temperature=0   #범위 0~1, 0에 가까울수록 정확한 답변\n",
    ")\n",
    "print('CoT 적용전:', response.choices[0].message.content)\n"
   ]
  },
  {
   "cell_type": "code",
   "execution_count": 34,
   "id": "ac93d36a",
   "metadata": {},
   "outputs": [
    {
     "name": "stdout",
     "output_type": "stream",
     "text": [
      "CoT 적용후: 문제를 단계별로 해결해 보겠습니다.\n",
      "\n",
      "1. **문제 이해하기**: 어떤 수를 \\( x \\)라고 할 때, 이 수를 3배한 결과에 4배를 더한 것이 19라는 조건이 있습니다.\n",
      "\n",
      "2. **수식 세우기**: 주어진 조건을 수식으로 표현해 보겠습니다.\n",
      "   \\[\n",
      "   3x + 4 = 19\n",
      "   \\]\n",
      "\n",
      "3. **방정식 풀기**: 이제 이 방정식을 풀어보겠습니다.\n",
      "   - 먼저, 양변에서 4를 빼줍니다.\n",
      "   \\[\n",
      "   3x = 19 - 4\n",
      "   \\]\n",
      "   \\[\n",
      "   3x = 15\n",
      "   \\]\n",
      "\n",
      "   - 다음으로, 양변을 3으로 나눕니다.\n",
      "   \\[\n",
      "   x = \\frac{15}{3}\n",
      "   \\]\n",
      "   \\[\n",
      "   x = 5\n",
      "   \\]\n",
      "\n",
      "4. **결과 확인하기**: \\( x = 5 \\)가 맞는지 확인해 보겠습니다.\n",
      "   - 5를 3배하면 \\( 3 \\times 5 = 15 \\)입니다.\n",
      "   - 여기에 4를 더하면 \\( 15 + 4 = 19 \\)가 됩니다.\n",
      "\n",
      "따라서, 주어진 조건을 만족하는 수는 \\( \\boxed{5} \\)입니다.\n"
     ]
    }
   ],
   "source": [
    "cot_prompt='(생각을 단계별로 진행해)\\n'+question\n",
    "response=client.chat.completions.create(\n",
    "    messages=[{'role':'user','content':cot_prompt}],\n",
    "    model='gpt-4o-mini',\n",
    "    temperature=0\n",
    ")\n",
    "print('CoT 적용후:', response.choices[0].message.content)"
   ]
  },
  {
   "cell_type": "markdown",
   "id": "f789c17f",
   "metadata": {},
   "source": [
    "## Self consistency 기법"
   ]
  },
  {
   "cell_type": "code",
   "execution_count": 50,
   "id": "2a8823f9",
   "metadata": {},
   "outputs": [
    {
     "name": "stdout",
     "output_type": "stream",
     "text": [
      "응답 1 : 주어진 문제를 수식으로 표현해 봅시다. 어떤 수를 \\( x \\)라고 할 때, 문제의 조건을 수식으로 나타내면 다음과 같습니다.\n",
      "\n",
      "\\[ \n",
      "3x + 4 = 19 \n",
      "\\]\n",
      "\n",
      "이제 단계별로 문제를 풀어보겠습니다.\n",
      "\n",
      "1. **수식에서 4를 빼기:**  \n",
      "   양변에서 4를 빼줍니다.\n",
      "   \\[\n",
      "   3x + 4 - 4 = 19 - 4 \n",
      "   \\]\n",
      "   \\[\n",
      "   3x = 15 \n",
      "   \\]\n",
      "\n",
      "2. **양변을 3으로 나누기:**  \n",
      "   이제 양변을 3으로 나눕니다.\n",
      "   \\[\n",
      "   \\frac{3x}{3} = \\frac{15}{3} \n",
      "   \\]\n",
      "   \\[\n",
      "   x = 5 \n",
      "   \\]\n",
      "\n",
      "결론적으로, 그 수는 **5**입니다.\n",
      "응답 2 : 문제를 해결하기 위해 주어진 식을 세워보겠습니다.\n",
      "\n",
      "1. 어떤 수를 \\( x \\)라고 합시다.\n",
      "2. 그 수를 3배하면 \\( 3x \\)가 됩니다.\n",
      "3. 여기서 4배를 더한다고 했으니, 이 결과는 \\( 3x + 4 \\)입니다.\n",
      "4. 이 값이 19와 같다고 하였으므로, 다음과 같은 방정식을 얻습니다:\n",
      "\n",
      "\\[\n",
      "3x + 4 = 19\n",
      "\\]\n",
      "\n",
      "5. 이제 위의 방정식을 풀어보겠습니다. 먼저 4를 양변에서 빼줍니다:\n",
      "\n",
      "\\[\n",
      "3x = 19 - 4\n",
      "\\]\n",
      "\n",
      "\\[\n",
      "3x = 15\n",
      "\\]\n",
      "\n",
      "6. 이제 양변을 3으로 나누어 \\( x \\)를 구합니다:\n",
      "\n",
      "\\[\n",
      "x = \\frac{15}{3}\n",
      "\\]\n",
      "\n",
      "\\[\n",
      "x = 5\n",
      "\\]\n",
      "\n",
      "따라서, 어떤 수는 \\( 5 \\)입니다.\n",
      "응답 3 : 주어진 문제를 단계별로 풀어보겠습니다.\n",
      "\n",
      "1. **문제 이해**: 어떤 수를 \\( x \\)라고 합시다. 이 수를 3배한 후 4배를 더했을 때 결과가 19가 됩니다.\n",
      "\n",
      "2. **식 세우기**: 문제에서 주어진 내용을 식으로 나타내면:\n",
      "   \\[\n",
      "   3x + 4 = 19\n",
      "   \\]\n",
      "\n",
      "3. **식 정리**:\n",
      "   - 식에서 4를 빼줍니다:\n",
      "   \\[\n",
      "   3x + 4 - 4 = 19 - 4\n",
      "   \\]\n",
      "   \\[\n",
      "   3x = 15\n",
      "   \\]\n",
      "\n",
      "4. **x 구하기**:\n",
      "   - 양변을 3으로 나눕니다:\n",
      "   \\[\n",
      "   x = \\frac{15}{3}\n",
      "   \\]\n",
      "   \\[\n",
      "   x = 5\n",
      "   \\]\n",
      "\n",
      "5. **결과 확인**:\n",
      "   - \\( x = 5 \\)를 원래 문제의 식에 대입하여 확인합니다:\n",
      "   \\[\n",
      "   3(5) + 4 = 15 + 4 = 19\n",
      "   \\]\n",
      "   - 따라서 맞습니다.\n",
      "\n",
      "결론적으로, 그 수는 \\( 5 \\)입니다.\n",
      "응답 4 : 주어진 문제를 단계별로 풀어보겠습니다.\n",
      "\n",
      "1. **문제를 수식으로 표현하기**: \n",
      "   어떤 수를 \\( x \\)라고 하겠습니다. 문제의 내용에 따르면, 이 수를 3배한 후 4배를 더하면 19가 됩니다. 이를 수식으로 표현하면 다음과 같습니다.\n",
      "   \\[\n",
      "   3x + 4 = 19\n",
      "   \\]\n",
      "\n",
      "2. **방정식을 풀기**: \n",
      "   이제 이 방정식을 풀어보겠습니다. 첫 번째 단계로 양변에서 4를 빼줍니다.\n",
      "   \\[\n",
      "   3x + 4 - 4 = 19 - 4\n",
      "   \\]\n",
      "   이를 정리하면:\n",
      "   \\[\n",
      "   3x = 15\n",
      "   \\]\n",
      "\n",
      "3. **x를 구하기**: \n",
      "   이제 양변을 3으로 나누어서 \\( x \\)를 구합니다.\n",
      "   \\[\n",
      "   x = \\frac{15}{3}\n",
      "   \\]\n",
      "   계산하면:\n",
      "   \\[\n",
      "   x = 5\n",
      "   \\]\n",
      "\n",
      "4. **결과 확인**: \n",
      "   마지막으로 구한 값을 이용해서 원래의 조건을 만족하는지 확인해보겠습니다. \\( x = 5 \\)일 때,\n",
      "   \\[\n",
      "   3x + 4 = 3(5) + 4 = 15 + 4 = 19\n",
      "   \\]\n",
      "   조건을 만족합니다.\n",
      "\n",
      "따라서, 그 수는 **5**입니다.\n",
      "응답 5 : 주어진 문제를 단계별로 풀어보겠습니다.\n",
      "\n",
      "1. **문제 이해하기**: 어떤 수를 \\( x \\)라고 가정하겠습니다. 이 수를 3배하면 \\( 3x \\)가 됩니다. 그리고 여기에 4배를 더하면 \\( 4 \\)가 됩니다. 이 값이 19와 같다는 식을 세울 수 있습니다.\n",
      "\n",
      "2. **식 세우기**: 위의 내용을 바탕으로 다음과 같은 식을 세울 수 있습니다.\n",
      "   \\[\n",
      "   3x + 4 = 19\n",
      "   \\]\n",
      "\n",
      "3. **식 변형하기**: 이제 이 식을 \\( x \\)에 대해 풀어봅시다.\n",
      "   - 먼저 4를 양변에서 빼줍니다.\n",
      "   \\[\n",
      "   3x = 19 - 4\n",
      "   \\]\n",
      "   \\[\n",
      "   3x = 15\n",
      "   \\]\n",
      "\n",
      "4. **x 구하기**: 이제 양쪽을 3으로 나누어서 \\( x \\)의 값을 구해봅시다.\n",
      "   \\[\n",
      "   x = \\frac{15}{3}\n",
      "   \\]\n",
      "   \\[\n",
      "   x = 5\n",
      "   \\]\n",
      "\n",
      "5. **답 확인하기**: 마지막으로 \\( x = 5 \\)가 맞는지 확인해보겠습니다.\n",
      "   - 3배한 결과: \\( 3 \\times 5 = 15 \\)\n",
      "   - 여기에 4를 더합니다: \\( 15 + 4 = 19 \\)\n",
      "\n",
      "따라서, 주어진 조건이 만족됩니다. \n",
      "\n",
      "**결론**: 어떤 수는 \\( 5 \\)입니다.\n"
     ]
    }
   ],
   "source": [
    "question= \"어떤 수를 3배한 결과에 4배를 더하면 19가 됩니다. 그 수는 무엇일까요? 단계별로 풀어보세요\"\n",
    "message = [{'role':'user', 'content':question}]\n",
    "answers = []\n",
    "\n",
    "for i in range(5):\n",
    "    response = client.chat.completions.create(\n",
    "        messages=message,\n",
    "        model='gpt-4o-mini',\n",
    "        temperature=1.0\n",
    "    )\n",
    "    answer = response.choices[0].message.content.strip()\n",
    "    answers.append(answer)\n",
    "    print(f'응답 {i+1} : {answer}')"
   ]
  },
  {
   "cell_type": "code",
   "execution_count": 51,
   "id": "b96c4f02",
   "metadata": {},
   "outputs": [
    {
     "name": "stdout",
     "output_type": "stream",
     "text": [
      "최종 답: \\)입니다.\n"
     ]
    }
   ],
   "source": [
    "final_answer=[ans.split()[-1] for ans in answers]\n",
    "import collections\n",
    "counter=collections.Counter(final_answer)\n",
    "final_ans=counter.most_common(1)[0][0]\n",
    "print(f'최종 답: {final_ans}')\n"
   ]
  },
  {
   "cell_type": "code",
   "execution_count": 52,
   "id": "b97da03a",
   "metadata": {},
   "outputs": [
    {
     "name": "stdout",
     "output_type": "stream",
     "text": [
      "['**5**입니다.', '\\\\)입니다.', '\\\\)입니다.', '**5**입니다.', '\\\\)입니다.']\n"
     ]
    }
   ],
   "source": [
    "print(final_answer)"
   ]
  },
  {
   "cell_type": "markdown",
   "id": "328c01e2",
   "metadata": {},
   "source": [
    "## Reflexion (자기 피드백 반복 프롬프트 설계)"
   ]
  },
  {
   "cell_type": "code",
   "execution_count": 48,
   "id": "a0e48718",
   "metadata": {},
   "outputs": [
    {
     "name": "stdout",
     "output_type": "stream",
     "text": [
      "틀렸어요. 힌트는 7의 제곱값을 정확히 구한 다음 곱하세요\n"
     ]
    }
   ],
   "source": [
    "question =  \"7의 2승에 5를 곱한 값은 무엇인가?\"\n",
    "response1 = client.chat.completions.create(\n",
    "    messages=[{'role':'user', 'content':question}],\n",
    "    model = 'gpt-3.5-turbo',\n",
    "    temperature=0\n",
    ")\n",
    "answer = response.choices[0].message.content.strip() # 모델이 출력한 응답 \n",
    "\n",
    "correct_answer = 245 # 우리가 주는 피드백\n",
    "\n",
    "if str(correct_answer) in answer: # text\n",
    "    feedback = '정답입니다'\n",
    "    need_retry = False\n",
    "else:\n",
    "    feedback = '틀렸어요. 힌트는 7의 제곱값을 정확히 구한 다음 곱하세요'\n",
    "    need_retry = True\n",
    "\n",
    "print(feedback)"
   ]
  },
  {
   "cell_type": "markdown",
   "id": "10a2344f",
   "metadata": {},
   "source": [
    "## 틀린 답을 출력하는 모델은?"
   ]
  },
  {
   "cell_type": "code",
   "execution_count": 56,
   "id": "bcdc7ecc",
   "metadata": {},
   "outputs": [
    {
     "name": "stdout",
     "output_type": "stream",
     "text": [
      "주어진 힌트를 바탕으로 문제를 다시 풀어보겠습니다.\n",
      "\n",
      "1. **문제 이해하기**: 어떤 수를 \\( x \\)라고 가정하겠습니다. 이 수를 3배하면 \\( 3x \\)가 되고, 여기에 4를 더하면 19가 된다는 조건이 있습니다.\n",
      "\n",
      "2. **식 세우기**: 위의 내용을 바탕으로 다음과 같은 식을 세울 수 있습니다.\n",
      "   \\[\n",
      "   3x + 4 = 19\n",
      "   \\]\n",
      "\n",
      "3. **식 변형하기**: 이제 이 식을 \\( x \\)에 대해 풀어봅시다.\n",
      "   - 먼저 4를 양변에서 빼줍니다.\n",
      "   \\[\n",
      "   3x = 19 - 4\n",
      "   \\]\n",
      "   \\[\n",
      "   3x = 15\n",
      "   \\]\n",
      "\n",
      "4. **x 구하기**: 이제 양쪽을 3으로 나누어서 \\( x \\)의 값을 구해봅시다.\n",
      "   \\[\n",
      "   x = \\frac{15}{3}\n",
      "   \\]\n",
      "   \\[\n",
      "   x = 5\n",
      "   \\]\n",
      "\n",
      "5. **답 확인하기**: 마지막으로 \\( x = 5 \\)가 맞는지 확인해보겠습니다.\n",
      "   - 3배한 결과: \\( 3 \\times 5 = 15 \\)\n",
      "   - 여기에 4를 더합니다: \\( 15 + 4 = 19 \\)\n",
      "\n",
      "이 과정에서 주어진 조건을 만족하므로, \\( x = 5 \\)는 올바른 답입니다.\n",
      "\n",
      "**결론**: 어떤 수는 \\( 5 \\)입니다.\n",
      "\n",
      "이제 주어진 힌트인 \"7의 제곱값을 정확히 구한 다음 곱하세요\"를 반영하여 다시 계산해보겠습니다.\n",
      "\n",
      "1. **7의 제곱값 구하기**: \n",
      "   \\[\n",
      "   7^2 = 49\n",
      "   \\]\n",
      "\n",
      "2. **곱하기**: \n",
      "   - \\( x = 5 \\)에 49를 곱합니다.\n",
      "   \\[\n",
      "   5 \\times 49 = 245\n",
      "   \\]\n",
      "\n",
      "따라서, 최종적으로 구한 답은 \\( 245 \\)입니다.\n"
     ]
    }
   ],
   "source": [
    "#2차 답변 생성\n",
    "if need_retry:\n",
    "    retry_prompt=f'이전 답변: {answer},  피드백:{feedback} \\n 다시 답을 구하세요'\n",
    "    response2=client.chat.completions.create(\n",
    "    messages=[{'role':'user', 'content':retry_prompt}],\n",
    "    model = 'gpt-4o-mini',\n",
    "    temperature=0\n",
    "        \n",
    ")\n",
    "answer2=response2.choices[0].message.content.strip()\n",
    "print(answer2)"
   ]
  },
  {
   "cell_type": "code",
   "execution_count": 57,
   "id": "0dc5f8a8",
   "metadata": {},
   "outputs": [
    {
     "name": "stdout",
     "output_type": "stream",
     "text": [
      "1차 에세이:\n",
      " ### 기후 변화의 원인과 해결 방안\n",
      "\n",
      "기후 변화는 현대 사회가 직면한 가장 심각한 환경 문제 중 하나로, 지구의 평균 기온 상승, 해수면 상승, 극단적인 기상 현상 증가 등을 초래하고 있습니다. 이러한 기후 변화의 주된 원인은 인간 활동에 의해 발생하는 온실가스의 배출입니다. 특히, 화석 연료의 연소, 산업 활동, 농업 및 임업 등에서 발생하는 이산화탄소(CO2), 메탄(CH4), 아산화질소(N2O) 등의 온실가스가 대기 중에 축적되어 지구의 온도를 상승시키고 있습니다.\n",
      "\n",
      "기후 변화의 해결 방안은 여러 가지가 있지만, 가장 효과적인 방법은 온실가스 배출을 줄이는 것입니다. 이를 위해 첫째, 재생 가능 에너지의 사용을 확대해야 합니다. 태양광, 풍력, 수력 등 청정 에너지원으로의 전환은 화석 연료 의존도를 줄이고, 온실가스 배출을 감소시키는 데 기여할 수 있습니다. 둘째, 에너지 효율성을 높이는 기술을 개발하고 보급해야 합니다. 건물, 교통수단, 산업 공정에서 에너지를 절약하는 방법을 도입함으로써 불필요한 에너지 소비를 줄일 수 있습니다.\n",
      "\n",
      "셋째, 지속 가능한 농업과 임업 practices를 통해 탄소 흡수 능력을 높이는 것도 중요합니다. 나무를 심고, 토양의 건강을 유지하며, 화학 비료 사용을 줄이는 등의 방법은 자연 생태계를 보호하고 탄소를 저장하는 데 기여할 수 있습니다. 넷째, 개인과 지역 사회의 인식 개선과 행동 변화도 필수적입니다. 대중교통 이용, 재활용, 에너지 절약 등의 작은 실천들이 모여 큰 변화를 이끌어낼 수 있습니다.\n",
      "\n",
      "결론적으로, 기후 변화는 인류의 지속 가능한 미래를 위협하는 중대한 문제입니다. 이를 해결하기 위해서는 정부, 기업, 개인이 함께 협력하여 온실가스 배출을 줄이고, 지속 가능한 발전을 추구해야 합니다. 기후 변화에 대한 적극적인 대응은 우리 세대뿐만 아니라 미래 세대를 위한 책임이기도 합니다.\n"
     ]
    }
   ],
   "source": [
    "prompt=\"기후 변화의 원인과 해결 방안에 대해 간략한 에세이를 작성하시오\"\n",
    "response_essay1=client.chat.completions.create(\n",
    "    messages=[\n",
    "        {\"role\":\"user\",\"content\":prompt}\n",
    "    ],\n",
    "    model=\"gpt-4o-mini\",\n",
    "    temperature=0\n",
    ")\n",
    "essay1=response_essay1.choices[0].message.content\n",
    "print(\"1차 에세이:\\n\",essay1)"
   ]
  },
  {
   "cell_type": "code",
   "execution_count": 58,
   "id": "ad6193b2",
   "metadata": {},
   "outputs": [
    {
     "name": "stdout",
     "output_type": "stream",
     "text": [
      "2차 에세이:\n",
      " ### 기후 변화의 원인과 해결 방안\n",
      "\n",
      "기후 변화는 현대 사회가 직면한 가장 심각한 환경 문제 중 하나로, 지구의 평균 기온 상승, 해수면 상승, 극단적인 기상 현상 증가 등을 초래하고 있습니다. 이러한 변화는 인류의 생존과 지속 가능한 발전에 중대한 위협을 가하고 있으며, 이를 해결하기 위한 긴급한 노력이 필요합니다. 본 에세이에서는 기후 변화의 주된 원인과 그 해결 방안을 구체적으로 살펴보겠습니다.\n",
      "\n",
      "기후 변화의 주된 원인은 인간 활동에 의해 발생하는 온실가스의 배출입니다. 특히, 화석 연료의 연소, 산업 활동, 농업 및 임업 등에서 발생하는 이산화탄소(CO2), 메탄(CH4), 아산화질소(N2O) 등의 온실가스가 대기 중에 축적되어 지구의 온도를 상승시키고 있습니다. 예를 들어, 2021년 기준으로 전 세계 이산화탄소 배출량은 약 36.4 기가톤에 달하며, 이는 산업 혁명 이전에 비해 약 50% 증가한 수치입니다. 이러한 통계는 기후 변화가 단순한 자연 현상이 아니라 인간의 활동에 의해 가속화되고 있음을 보여줍니다.\n",
      "\n",
      "기후 변화의 해결 방안은 여러 가지가 있지만, 가장 효과적인 방법은 온실가스 배출을 줄이는 것입니다. 이를 위해 다음과 같은 10가지 이상의 구체적인 방안을 제시합니다.\n",
      "\n",
      "1. **재생 가능 에너지의 사용 확대**: 태양광, 풍력, 수력 등 청정 에너지원으로의 전환은 화석 연료 의존도를 줄이고, 온실가스 배출을 감소시키는 데 기여할 수 있습니다.\n",
      "\n",
      "2. **에너지 효율성 향상**: 건물, 교통수단, 산업 공정에서 에너지를 절약하는 기술을 개발하고 보급하여 불필요한 에너지 소비를 줄입니다.\n",
      "\n",
      "3. **지속 가능한 농업 실천**: 유기농법, 회전작물 재배, 화학 비료 사용 감소 등을 통해 토양의 건강을 유지하고 탄소 흡수 능력을 높입니다.\n",
      "\n",
      "4. **임업 관리 개선**: 산림 보호 및 재조림을 통해 탄소 저장 능력을 강화하고, 생물 다양성을 유지합니다.\n",
      "\n",
      "5. **대중교통 이용 장려**: 개인 차량 사용을 줄이고 대중교통을 이용하도록 유도하여 교통 부문에서의 온실가스 배출을 감소시킵니다.\n",
      "\n",
      "6. **전기차 및 친환경 차량 보급**: 전기차와 하이브리드 차량의 사용을 촉진하여 교통 부문에서의 화석 연료 의존도를 줄입니다.\n",
      "\n",
      "7. **폐기물 관리 개선**: 재활용과 퇴비화를 통해 쓰레기 매립을 줄이고, 메탄 발생을 최소화합니다.\n",
      "\n",
      "8. **탄소세 도입**: 온실가스를 배출하는 기업에 세금을 부과하여 배출량을 줄이도록 유도합니다.\n",
      "\n",
      "9. **기후 교육 및 인식 개선**: 학교와 지역 사회에서 기후 변화에 대한 교육을 강화하여 개인의 행동 변화를 촉진합니다.\n",
      "\n",
      "10. **국제 협력 강화**: 기후 변화는 전 세계적인 문제이므로, 국가 간 협력을 통해 공동의 목표를 설정하고 이행합니다.\n",
      "\n",
      "11. **기술 혁신 지원**: 탄소 포집 및 저장 기술, 대체 단백질 개발 등 기후 변화 대응을 위한 혁신적인 기술에 대한 연구 및 개발을 지원합니다.\n",
      "\n",
      "결론적으로, 기후 변화는 인류의 지속 가능한 미래를 위협하는 중대한 문제입니다. 이를 해결하기 위해서는 정부, 기업, 개인이 함께 협력하여 온실가스 배출을 줄이고, 지속 가능한 발전을 추구해야 합니다. 기후 변화에 대한 적극적인 대응은 우리 세대뿐만 아니라 미래 세대를 위한 책임이기도 합니다. 기후 변화의 심각성을 인식하고, 구체적인 행동을 통해 변화를 이끌어내는 것이 필요합니다.\n"
     ]
    }
   ],
   "source": [
    "# 피드백 작성 (여기서는 사람이 수동으로 평가하여 문자열 작성한다고 가정)\n",
    "feedback = (\n",
    "    \"피드백:\\n\"\n",
    "    \" - 서론에서 주제 소개가 부족합니다.\\n\"\n",
    "    \" - 원인에 대한 설명이 모호하며 구체적 예시와 근거를 제시할 통계자료가 없습니다.\\n\"\n",
    "    \" - 해결 방안을 최소 10가지 이상 제시해주세요.\\n\"\n",
    "    \"위 사항을 반영하여 에세이를 수정해주세요.\"\n",
    ")\n",
    "# 개선 프롬프트 구성\n",
    "retry_prompt = essay1 + \"\\n\\n\" + feedback\n",
    "response_essay2 = client.chat.completions.create(\n",
    "    messages=[\n",
    "        {\"role\": \"user\", \"content\": retry_prompt}\n",
    "    ],\n",
    "    model=\"gpt-4o-mini\",\n",
    "    temperature=0\n",
    ")\n",
    "essay2 = response_essay2.choices[0].message.content\n",
    "print(\"2차 에세이:\\n\", essay2)"
   ]
  },
  {
   "cell_type": "code",
   "execution_count": 59,
   "id": "6895f6f0",
   "metadata": {},
   "outputs": [
    {
     "name": "stdout",
     "output_type": "stream",
     "text": [
      "3차 에세이:\n",
      " ### 기후 변화의 원인과 해결 방안\n",
      "\n",
      "기후 변화는 현대 사회가 직면한 가장 심각한 환경 문제 중 하나로, 지구의 평균 기온 상승, 해수면 상승, 극단적인 기상 현상 증가 등을 초래하고 있습니다. 이러한 기후 변화의 주된 원인은 인간 활동에 의해 발생하는 온실가스의 배출입니다. 2021년 기준으로, 전 세계 온실가스 배출량의 약 76%가 이산화탄소(CO2)에서 발생하며, 이는 주로 화석 연료의 연소, 산업 활동, 농업 및 임업 등에서 기인합니다. 메탄(CH4)과 아산화질소(N2O) 또한 중요한 온실가스로, 각각 농업과 축산업에서 주로 발생합니다. 예를 들어, 메탄은 이산화탄소보다 25배 더 강력한 온실가스로, 2019년에는 전 세계적으로 약 5700만 톤이 배출되었습니다.\n",
      "\n",
      "기후 변화의 해결 방안은 여러 가지가 있지만, 가장 효과적인 방법은 온실가스 배출을 줄이는 것입니다. 이를 위해 첫째, 재생 가능 에너지의 사용을 확대해야 합니다. 2020년 기준으로, 전 세계 전력의 약 29%가 재생 가능 에너지에서 생산되었으며, 이는 화석 연료 의존도를 줄이고 온실가스 배출을 감소시키는 데 기여할 수 있습니다. 태양광, 풍력, 수력 등 청정 에너지원으로의 전환은 필수적입니다.\n",
      "\n",
      "둘째, 에너지 효율성을 높이는 기술을 개발하고 보급해야 합니다. 예를 들어, 에너지 효율적인 건물은 기존 건물보다 에너지를 최대 30%까지 절약할 수 있으며, 이는 온실가스 배출 감소에 크게 기여할 수 있습니다. 교통수단에서도 전기차와 같은 친환경 차량의 사용을 늘리는 것이 중요합니다.\n",
      "\n",
      "셋째, 지속 가능한 농업과 임업 practices를 통해 탄소 흡수 능력을 높이는 것도 중요합니다. 나무를 심고, 토양의 건강을 유지하며, 화학 비료 사용을 줄이는 등의 방법은 자연 생태계를 보호하고 탄소를 저장하는 데 기여할 수 있습니다. 예를 들어, 2020년에는 전 세계적으로 약 1억 3천만 헥타르의 숲이 복원되었으며, 이는 연간 약 1.1 기가톤의 CO2를 흡수하는 효과가 있습니다.\n",
      "\n",
      "넷째, 개인과 지역 사회의 인식 개선과 행동 변화도 필수적입니다. 대중교통 이용, 재활용, 에너지 절약 등의 작은 실천들이 모여 큰 변화를 이끌어낼 수 있습니다. 2021년 조사에 따르면, 대중교통을 이용하는 사람들은 개인 차량을 이용하는 사람들보다 연간 약 45%의 온실가스를 줄일 수 있습니다.\n",
      "\n",
      "결론적으로, 기후 변화는 인류의 지속 가능한 미래를 위협하는 중대한 문제입니다. 이를 해결하기 위해서는 정부, 기업, 개인이 함께 협력하여 온실가스 배출을 줄이고, 지속 가능한 발전을 추구해야 합니다. 기후 변화에 대한 적극적인 대응은 우리 세대뿐만 아니라 미래 세대를 위한 책임이기도 합니다. 기후 변화의 심각성을 인식하고, 실질적인 행동을 통해 변화를 이끌어내는 것이 필요합니다.\n"
     ]
    }
   ],
   "source": [
    "# 피드백 작성 (여기서는 사람이 수동으로 평가하여 문자열 작성한다고 가정)\n",
    "feedback_2 = (\n",
    "    \"피드백:\\n\"\n",
    "    \" - 관련 사실을 실증할만한 근거의 통계 자료가 없습니다.\\n\"\n",
    "    \"위 사항을 반영하여 에세이를 수정해주세요.\"\n",
    ")\n",
    "# 개선 프롬프트 구성\n",
    "retry_prompt_2 = essay1 + \"\\n\\n\" + feedback_2\n",
    "response_essay3 = client.chat.completions.create(\n",
    "    messages=[\n",
    "        {\"role\": \"user\", \"content\": retry_prompt_2}\n",
    "    ],\n",
    "    model=\"gpt-4o-mini\",\n",
    "    temperature=0\n",
    ")\n",
    "essay3 = response_essay3.choices[0].message.content\n",
    "print(\"3차 에세이:\\n\", essay3)"
   ]
  }
 ],
 "metadata": {
  "kernelspec": {
   "display_name": "prompting_env",
   "language": "python",
   "name": "python3"
  },
  "language_info": {
   "codemirror_mode": {
    "name": "ipython",
    "version": 3
   },
   "file_extension": ".py",
   "mimetype": "text/x-python",
   "name": "python",
   "nbconvert_exporter": "python",
   "pygments_lexer": "ipython3",
   "version": "3.12.11"
  }
 },
 "nbformat": 4,
 "nbformat_minor": 5
}

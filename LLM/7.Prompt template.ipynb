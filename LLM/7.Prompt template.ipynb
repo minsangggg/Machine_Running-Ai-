{
 "cells": [
  {
   "cell_type": "code",
   "execution_count": 1,
   "id": "9abfdf1d",
   "metadata": {},
   "outputs": [
    {
     "data": {
      "text/plain": [
       "True"
      ]
     },
     "execution_count": 1,
     "metadata": {},
     "output_type": "execute_result"
    }
   ],
   "source": [
    "import langchain\n",
    "langchain.__version__\n",
    "import os\n",
    "from dotenv import load_dotenv\n",
    "\n",
    "load_dotenv()  # .env 파일 읽어오기"
   ]
  },
  {
   "cell_type": "code",
   "execution_count": 2,
   "id": "26f20a80",
   "metadata": {},
   "outputs": [
    {
     "data": {
      "text/plain": [
       "ChatOpenAI(client=<openai.resources.chat.completions.completions.Completions object at 0x0000018673C7C770>, async_client=<openai.resources.chat.completions.completions.AsyncCompletions object at 0x0000018673BB48F0>, root_client=<openai.OpenAI object at 0x0000018673B0BFB0>, root_async_client=<openai.AsyncOpenAI object at 0x0000018673BB6A80>, model_name='gpt-4o-mini', model_kwargs={}, openai_api_key=SecretStr('**********'))"
      ]
     },
     "execution_count": 2,
     "metadata": {},
     "output_type": "execute_result"
    }
   ],
   "source": [
    "from langchain_openai import ChatOpenAI\n",
    "llm=ChatOpenAI(model='gpt-4o-mini')\n",
    "llm"
   ]
  },
  {
   "cell_type": "code",
   "execution_count": 8,
   "id": "39033ead",
   "metadata": {},
   "outputs": [
    {
     "data": {
      "text/plain": [
       "'서울에서 유명한 맛집을 알려주세요'"
      ]
     },
     "execution_count": 8,
     "metadata": {},
     "output_type": "execute_result"
    }
   ],
   "source": [
    "from langchain.prompts import PromptTemplate\n",
    "template=PromptTemplate.from_template(\"{city}에서 {adj} {topic}을 알려주세요\")\n",
    "prompt=template.format(city='서울',adj='유명한', topic='맛집')\n",
    "prompt"
   ]
  },
  {
   "cell_type": "code",
   "execution_count": 9,
   "id": "dc2da7b7",
   "metadata": {},
   "outputs": [
    {
     "data": {
      "text/plain": [
       "AIMessage(content='서울에는 다양한 맛집이 있지만, 몇 가지 추천 드릴 만한 곳을 소개할게요.\\n\\n1. **미미면가** - 명동에 위치한 이곳은 냉면과 비빔면으로 유명한 집입니다. 특히 여름에 인기가 많습니다.\\n\\n2. **부암동 백숙** - 부암동에 있는 이곳은 진한 국물의 백숙을 제공하며, 아늑한 분위기에서 식사를 즐길 수 있습니다.\\n\\n3. **광장시장** - 다양한 길거리 음식이 모여 있는 곳으로, 전통적인 한국 음식을 쉽게 즐길 수 있습니다. 특히 빈대떡, 마약김밥이 유명합니다.\\n\\n4. **멕시카나** - 강남구에 위치한 이 프랜차이즈 치킨 집은 바삭한 치킨과 다양한 소스로 인기를 끌고 있습니다.\\n\\n5. **정식당** - 가벼운 한식 코스를 즐길 수 있는 미쉐린 가이드 추천 레스토랑으로, 모던한 분위기와 세련된 플레이팅이 매력적입니다.\\n\\n이 외에도 서울에는 각 지역마다 특색 있는 맛집들이 많이 있으니, 기회가 되시면 여러 곳을 찾아가 보세요!', additional_kwargs={'refusal': None}, response_metadata={'token_usage': {'completion_tokens': 273, 'prompt_tokens': 16, 'total_tokens': 289, 'completion_tokens_details': {'accepted_prediction_tokens': 0, 'audio_tokens': 0, 'reasoning_tokens': 0, 'rejected_prediction_tokens': 0}, 'prompt_tokens_details': {'audio_tokens': 0, 'cached_tokens': 0}}, 'model_name': 'gpt-4o-mini-2024-07-18', 'system_fingerprint': 'fp_8bda4d3a2c', 'id': 'chatcmpl-CDLuplqvZEiXqBBiH9Fern8OJA6WC', 'service_tier': 'default', 'finish_reason': 'stop', 'logprobs': None}, id='run--7da200c5-49ba-4616-aed3-eeb0345b5326-0', usage_metadata={'input_tokens': 16, 'output_tokens': 273, 'total_tokens': 289, 'input_token_details': {'audio': 0, 'cache_read': 0}, 'output_token_details': {'audio': 0, 'reasoning': 0}})"
      ]
     },
     "execution_count": 9,
     "metadata": {},
     "output_type": "execute_result"
    }
   ],
   "source": [
    "response=llm.invoke(prompt)\n",
    "response"
   ]
  },
  {
   "cell_type": "markdown",
   "id": "92783925",
   "metadata": {},
   "source": [
    "## Prompt Template"
   ]
  },
  {
   "cell_type": "code",
   "execution_count": 10,
   "id": "b2ac0c22",
   "metadata": {},
   "outputs": [],
   "source": [
    "template.save('restaurant_tour_prompt.json')"
   ]
  },
  {
   "cell_type": "code",
   "execution_count": 12,
   "id": "f5005bf5",
   "metadata": {},
   "outputs": [
    {
     "data": {
      "text/plain": [
       "'부산에서 가장 멋진 박물관을 알려주세요'"
      ]
     },
     "execution_count": 12,
     "metadata": {},
     "output_type": "execute_result"
    }
   ],
   "source": [
    "from langchain.prompts import load_prompt\n",
    "temp_load = load_prompt('restaurant_tour_prompt.json')\n",
    "prompt = temp_load.format(city='부산', adj='가장 멋진', topic='박물관')\n",
    "prompt"
   ]
  },
  {
   "cell_type": "markdown",
   "id": "c6ee8d27",
   "metadata": {},
   "source": [
    "## ChatPrompt Template"
   ]
  },
  {
   "cell_type": "code",
   "execution_count": 13,
   "id": "947f5557",
   "metadata": {},
   "outputs": [
    {
     "data": {
      "text/plain": [
       "ChatPromptTemplate(input_variables=['place', 'question', 'travel', 'when'], input_types={}, partial_variables={}, messages=[SystemMessagePromptTemplate(prompt=PromptTemplate(input_variables=[], input_types={}, partial_variables={}, template='당신은 베테랑 여행 가이드입니다. 고객 맞춤 여행일정 수립을 도와드립니다'), additional_kwargs={}), HumanMessagePromptTemplate(prompt=PromptTemplate(input_variables=['place', 'travel', 'when'], input_types={}, partial_variables={}, template='{when}에 {place}로 {travel}을 계획중입니다'), additional_kwargs={}), AIMessagePromptTemplate(prompt=PromptTemplate(input_variables=['place'], input_types={}, partial_variables={}, template='제가 {place}의 전문여행가이드입니다'), additional_kwargs={}), HumanMessagePromptTemplate(prompt=PromptTemplate(input_variables=['question'], input_types={}, partial_variables={}, template='{question}'), additional_kwargs={})])"
      ]
     },
     "execution_count": 13,
     "metadata": {},
     "output_type": "execute_result"
    }
   ],
   "source": [
    "from langchain.prompts import ChatPromptTemplate\n",
    "\n",
    "chat_template=ChatPromptTemplate.from_messages(\n",
    "    [\n",
    "        ('system','당신은 베테랑 여행 가이드입니다. 고객 맞춤 여행일정 수립을 도와드립니다'),\n",
    "        ('human','{when}에 {place}로 {travel}을 계획중입니다'),\n",
    "        ('ai','제가 {place}의 전문여행가이드입니다'),\n",
    "        ('human', '{question}')\n",
    "    ]\n",
    "    \n",
    ")\n",
    "chat_template"
   ]
  },
  {
   "cell_type": "code",
   "execution_count": 15,
   "id": "e07f5245",
   "metadata": {},
   "outputs": [
    {
     "data": {
      "text/plain": [
       "[SystemMessage(content='당신은 베테랑 여행 가이드입니다. 고객 맞춤 여행일정 수립을 도와드립니다', additional_kwargs={}, response_metadata={}),\n",
       " HumanMessage(content='가을에 제주로 자유여행을 계획중입니다', additional_kwargs={}, response_metadata={}),\n",
       " AIMessage(content='제가 제주의 전문여행가이드입니다', additional_kwargs={}, response_metadata={}),\n",
       " HumanMessage(content='흥미로운 여행지 3곳 추천해주세요', additional_kwargs={}, response_metadata={})]"
      ]
     },
     "execution_count": 15,
     "metadata": {},
     "output_type": "execute_result"
    }
   ],
   "source": [
    "final_prompt=chat_template.format_messages(when='가을', place='제주', travel='자유여행',question='흥미로운 여행지 3곳 추천해주세요')\n",
    "final_prompt"
   ]
  },
  {
   "cell_type": "code",
   "execution_count": 16,
   "id": "40f1b59c",
   "metadata": {},
   "outputs": [
    {
     "data": {
      "text/plain": [
       "AIMessage(content='가을 제주에서 방문하기 좋은 흥미로운 여행지 3곳을 추천드립니다!\\n\\n1. **한라산 국립공원**  \\n   - 가을에는 한라산의 단풍이 아름답게 물들어 hiking을 즐기기에 최적의 시기입니다. 여러 등산로가 있어 난이도에 맞게 선택할 수 있으며, 정상에 오르면 제주도 전경을 한눈에 볼 수 있습니다. 특히, 한라산의 억새밭도 가을에 방문하면 특히 아름답습니다.\\n\\n2. **제주 올레길**  \\n   - 제주 올레길은 걸으면서 제주 바다와 자연을 만끽할 수 있는 멋진 코스입니다. 가을의 제주는 맑고 청량한 날씨 덕분에 걷기에 딱 좋습니다. 특히 올레길 7코스(귤림길)와 10코스(서귀포 올레길)는 가을에 특히 매력적입니다.\\n\\n3. **성산 일출봉**  \\n   - 성산 일출봉은 제주에서 가장 유명한 일출 명소입니다. 가을 날씨의 맑은 하늘 아래에서 일출을 감상하면 환상적입니다. 김밥이나 모래국수 같은 간단한 아침식사를 준비해 절벽에서 일출을 즐기는 것도 특별한 경험이 될 것입니다.\\n\\n각 여행지마다 계절마다 다른 매력을 느낄 수 있으니, 여행 일정에 맞춰 방문해 보시길 권장드립니다! 추가적인 정보나 필요하신 부분이 있다면 언제든지 말씀해 주세요.', additional_kwargs={'refusal': None}, response_metadata={'token_usage': {'completion_tokens': 352, 'prompt_tokens': 73, 'total_tokens': 425, 'completion_tokens_details': {'accepted_prediction_tokens': 0, 'audio_tokens': 0, 'reasoning_tokens': 0, 'rejected_prediction_tokens': 0}, 'prompt_tokens_details': {'audio_tokens': 0, 'cached_tokens': 0}}, 'model_name': 'gpt-4o-mini-2024-07-18', 'system_fingerprint': 'fp_8bda4d3a2c', 'id': 'chatcmpl-CDMDXf5dn3FKBo6vDzUZuHsk3VIiE', 'service_tier': 'default', 'finish_reason': 'stop', 'logprobs': None}, id='run--2457a069-34e2-4ea2-b6e7-0a043a6de8b4-0', usage_metadata={'input_tokens': 73, 'output_tokens': 352, 'total_tokens': 425, 'input_token_details': {'audio': 0, 'cache_read': 0}, 'output_token_details': {'audio': 0, 'reasoning': 0}})"
      ]
     },
     "execution_count": 16,
     "metadata": {},
     "output_type": "execute_result"
    }
   ],
   "source": [
    "final_response=llm.invoke(final_prompt)\n",
    "final_response"
   ]
  },
  {
   "cell_type": "code",
   "execution_count": 17,
   "id": "98ceb193",
   "metadata": {},
   "outputs": [
    {
     "data": {
      "text/plain": [
       "'가을 제주에서 방문하기 좋은 흥미로운 여행지 3곳을 추천드립니다!\\n\\n1. **한라산 국립공원**  \\n   - 가을에는 한라산의 단풍이 아름답게 물들어 hiking을 즐기기에 최적의 시기입니다. 여러 등산로가 있어 난이도에 맞게 선택할 수 있으며, 정상에 오르면 제주도 전경을 한눈에 볼 수 있습니다. 특히, 한라산의 억새밭도 가을에 방문하면 특히 아름답습니다.\\n\\n2. **제주 올레길**  \\n   - 제주 올레길은 걸으면서 제주 바다와 자연을 만끽할 수 있는 멋진 코스입니다. 가을의 제주는 맑고 청량한 날씨 덕분에 걷기에 딱 좋습니다. 특히 올레길 7코스(귤림길)와 10코스(서귀포 올레길)는 가을에 특히 매력적입니다.\\n\\n3. **성산 일출봉**  \\n   - 성산 일출봉은 제주에서 가장 유명한 일출 명소입니다. 가을 날씨의 맑은 하늘 아래에서 일출을 감상하면 환상적입니다. 김밥이나 모래국수 같은 간단한 아침식사를 준비해 절벽에서 일출을 즐기는 것도 특별한 경험이 될 것입니다.\\n\\n각 여행지마다 계절마다 다른 매력을 느낄 수 있으니, 여행 일정에 맞춰 방문해 보시길 권장드립니다! 추가적인 정보나 필요하신 부분이 있다면 언제든지 말씀해 주세요.'"
      ]
     },
     "execution_count": 17,
     "metadata": {},
     "output_type": "execute_result"
    }
   ],
   "source": [
    "final_response.content"
   ]
  },
  {
   "cell_type": "code",
   "execution_count": 20,
   "id": "5d9f8384",
   "metadata": {},
   "outputs": [
    {
     "data": {
      "text/plain": [
       "'당신은 베테랑 여행 가이드입니다. 고객 맞춤 여행일정 수립을 도와드립니다12월에 동남아로 가족여행을 계획중입니다'"
      ]
     },
     "execution_count": 20,
     "metadata": {},
     "output_type": "execute_result"
    }
   ],
   "source": [
    "prmpt_1=PromptTemplate.from_template('당신은 베테랑 여행 가이드입니다. 고객 맞춤 여행일정 수립을 도와드립니다.')\n",
    "prmpt_2=PromptTemplate.from_template('{when}에 {place}로 {travel}을 계획중입니다')\n",
    "\n",
    "concat_prompt=prmpt_1+prmpt_2\n",
    "concat_prompt.format(place='동남아', when='12월', travel='가족여행')"
   ]
  }
 ],
 "metadata": {
  "kernelspec": {
   "display_name": "prompting_env",
   "language": "python",
   "name": "python3"
  },
  "language_info": {
   "codemirror_mode": {
    "name": "ipython",
    "version": 3
   },
   "file_extension": ".py",
   "mimetype": "text/x-python",
   "name": "python",
   "nbconvert_exporter": "python",
   "pygments_lexer": "ipython3",
   "version": "3.12.11"
  }
 },
 "nbformat": 4,
 "nbformat_minor": 5
}

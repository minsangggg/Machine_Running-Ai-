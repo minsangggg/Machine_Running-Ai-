{
 "cells": [
  {
   "cell_type": "markdown",
   "id": "f2a866ce",
   "metadata": {},
   "source": [
    "## AI 소믈리에 페르소나\n",
    "- image → model → text\n",
    "- 와인 및 음식 관련 이미지를 분석하여 다양한 정보를 제공\n",
    "- 와인 라벨을 분석하여 와인의 특성과 어울리는 음식을 추천하거나, 요리 사진을 분석하여 그 요리와 잘 어울리는 와인을 제안"
   ]
  },
  {
   "cell_type": "code",
   "execution_count": 5,
   "id": "5cfb6403",
   "metadata": {},
   "outputs": [
    {
     "data": {
      "text/plain": [
       "True"
      ]
     },
     "execution_count": 5,
     "metadata": {},
     "output_type": "execute_result"
    }
   ],
   "source": [
    "import os\n",
    "from dotenv import load_dotenv\n",
    "load_dotenv()\n"
   ]
  },
  {
   "cell_type": "code",
   "execution_count": 6,
   "id": "a7bdf664",
   "metadata": {},
   "outputs": [],
   "source": [
    "# 와인 추천 프롬프트\n",
    "from openai import OpenAI\n",
    "client = OpenAI()\n",
    "\n",
    "response = client.chat.completions.create(\n",
    "  model=\"gpt-4o-mini\",\n",
    "  messages=[\n",
    "    {\n",
    "      \"role\": \"system\",\n",
    "      \"content\": [\n",
    "        {\n",
    "          \"type\": \"text\",\n",
    "          \"text\": \"You are an expert sommelier with extensive knowledge in wine, wine pairing, and \\nthe intricacies of food and beverage service. Your primary role is to assist users \\nin selecting the best wines and pairing them perfectly with meals. You have a deep \\nunderstanding of various wine regions, grape varieties, wine production methods, and \\ncurrent trends in the industry. You possess a refined palate, able to discern subtle \\nflavors and characteristics in wines. Your advice is always clear, approachable, and \\ntailored to each user’s preferences and specific dining context. You also educate users \\non wine appreciation, proper wine service, and the art of creating a harmonious dining \\nexperience. Your demeanor is professional, courteous, and passionate about wine culture, \\naiming to make each wine selection and pairing a memorable experience for users.\"\n",
    "        }\n",
    "      ]\n",
    "    },\n",
    "    {\n",
    "      \"role\": \"user\",\n",
    "      \"content\": [\n",
    "        {\n",
    "          \"type\": \"text\",\n",
    "          \"text\": \"이 와인에 어울리는 요리에는 어떤 것들이 있을까요?\"\n",
    "        },\n",
    "        {\n",
    "          \"type\": \"image_url\",\n",
    "          \"image_url\": {\n",
    "            \"url\": \"https://images.vivino.com/thumbs/Z90I3--JRKWlpMA8wdLY-Q_pb_x600.png\"\n",
    "          }\n",
    "        }\n",
    "      ]\n",
    "    },\n",
    "    {\n",
    "      \"role\": \"assistant\",\n",
    "      \"content\": [\n",
    "        {\n",
    "          \"type\": \"text\",\n",
    "          \"text\": \"Masserì Primitivo는 풍부한 과일 향과 부드러운 타닌이 특징인 레드 와인으로, 다음과 같은 요리와 잘 어울립니다:\\n\\n1. **고기 요리**: 구운 양고기, 스테이크, 소고기 베이컨 리프롤 등이 훌륭한 선택입니다. 이 와인의 과일 맛이 고기의 풍미와 잘 어우러집니다.\\n\\n2. **파스타**: 토마토 베이스 소스의 파스타, 특히 볼로네제나 리가토니와 잘 맞습니다.\\n\\n3. **치즈**: 숙성된 치즈, 특히 파르미지아노 레지아노나 고다와 같은 치즈가 좋습니다.\\n\\n4. **스파이시 요리**: 매운 소스를 곁들인 타코나 바베큐 요리와도 잘 어울립니다.\\n\\n5. **퓨전 요리**: 두드려진 퍼지르 및 스파이시 엔칠라다와 같은 멕시코 요리도 매칭이 좋습니다.\\n\\n이 와인은 풍부한 맛 덕분에 다양한 요리와 조화를 이루며, 특히 맛이 강한 요리와 잘 어울립니다. 즐거운 식사 시간을 가지시길 바랍니다!\"\n",
    "        }\n",
    "      ]\n",
    "    }\n",
    "  ],\n",
    "  response_format={\n",
    "    \"type\": \"text\"\n",
    "  },\n",
    "  temperature=1,\n",
    "  max_completion_tokens=10000,\n",
    "  top_p=1,\n",
    "  frequency_penalty=0,\n",
    "  presence_penalty=0\n",
    ")"
   ]
  },
  {
   "cell_type": "code",
   "execution_count": 7,
   "id": "213dfb77",
   "metadata": {},
   "outputs": [
    {
     "data": {
      "text/plain": [
       "ChatCompletion(id='chatcmpl-CEPnblzFlWr9p5uG1B8utBprIsl0n', choices=[Choice(finish_reason='stop', index=0, logprobs=None, message=ChatCompletionMessage(content='Masserì Primitivo는 풍부한 과일 향과 부드러운 타닌이 특징인 레드 와인으로, 다음과 같은 요리와 잘 어울립니다:\\n\\n1. **고기 요리**: 구운 양고기, 스테이크, 소고기 베이컨 리프롤 등이 훌륭한 선택입니다. 이 와인의 과일 맛이 고기의 풍미와 잘 어우러집니다.\\n\\n2. **파스타**: 토마토 베이스 소스의 파스타, 특히 볼로네제나 리가토니와 잘 맞습니다.\\n\\n3. **치즈**: 숙성된 치즈, 특히 파르미지아노 레지아노나 고다와 같은 치즈가 좋습니다.\\n\\n4. **스파이시 요리**: 매운 소스를 곁들인 타코나 바베큐 요리와도 잘 어울립니다.\\n\\n5. **퓨전 요리**: 두드려진 퍼지르 및 스파이시 엔칠라다와 같은 멕시코 요리도 매칭이 좋습니다.\\n\\n이 와인은 풍부한 맛 덕분에 다양한 요리와 조화를 이루며, 특히 맛이 강한 요리와 잘 어울립니다. 즐거운 식사 시간을 가지시길 바랍니다!', refusal=None, role='assistant', annotations=[], audio=None, function_call=None, tool_calls=None))], created=1757551799, model='gpt-4o-mini-2024-07-18', object='chat.completion', service_tier='default', system_fingerprint='fp_e665f7564b', usage=CompletionUsage(completion_tokens=281, prompt_tokens=14646, total_tokens=14927, completion_tokens_details=CompletionTokensDetails(accepted_prediction_tokens=0, audio_tokens=0, reasoning_tokens=0, rejected_prediction_tokens=0), prompt_tokens_details=PromptTokensDetails(audio_tokens=0, cached_tokens=0)))"
      ]
     },
     "execution_count": 7,
     "metadata": {},
     "output_type": "execute_result"
    }
   ],
   "source": [
    "response"
   ]
  },
  {
   "cell_type": "code",
   "execution_count": 8,
   "id": "c3421e07",
   "metadata": {},
   "outputs": [
    {
     "name": "stdout",
     "output_type": "stream",
     "text": [
      "Masserì Primitivo는 풍부한 과일 향과 부드러운 타닌이 특징인 레드 와인으로, 다음과 같은 요리와 잘 어울립니다:\n",
      "\n",
      "1. **고기 요리**: 구운 양고기, 스테이크, 소고기 베이컨 리프롤 등이 훌륭한 선택입니다. 이 와인의 과일 맛이 고기의 풍미와 잘 어우러집니다.\n",
      "\n",
      "2. **파스타**: 토마토 베이스 소스의 파스타, 특히 볼로네제나 리가토니와 잘 맞습니다.\n",
      "\n",
      "3. **치즈**: 숙성된 치즈, 특히 파르미지아노 레지아노나 고다와 같은 치즈가 좋습니다.\n",
      "\n",
      "4. **스파이시 요리**: 매운 소스를 곁들인 타코나 바베큐 요리와도 잘 어울립니다.\n",
      "\n",
      "5. **퓨전 요리**: 두드려진 퍼지르 및 스파이시 엔칠라다와 같은 멕시코 요리도 매칭이 좋습니다.\n",
      "\n",
      "이 와인은 풍부한 맛 덕분에 다양한 요리와 조화를 이루며, 특히 맛이 강한 요리와 잘 어울립니다. 즐거운 식사 시간을 가지시길 바랍니다!\n"
     ]
    }
   ],
   "source": [
    "print(\"\".join([choice.message.content for choice in response.choices]))"
   ]
  },
  {
   "cell_type": "code",
   "execution_count": 13,
   "id": "23c86cc8",
   "metadata": {},
   "outputs": [],
   "source": [
    "# 요리 추천 프롬프트\n",
    "from openai import OpenAI\n",
    "\n",
    "def recommend_dishes(query):\n",
    "  client = OpenAI()\n",
    "\n",
    "  response = client.chat.completions.create(\n",
    "    model=\"gpt-4o-mini\",\n",
    "    messages=[\n",
    "      {\n",
    "        \"role\": \"system\",\n",
    "        \"content\": [\n",
    "          {\n",
    "            \"type\": \"text\",\n",
    "            \"text\": \"You are an expert sommelier with extensive knowledge in wine, wine pairing, and \\nthe intricacies of food and beverage service. Your primary role is to assist users \\nin selecting the best wines and pairing them perfectly with meals. You have a deep \\nunderstanding of various wine regions, grape varieties, wine production methods, and \\ncurrent trends in the industry. You possess a refined palate, able to discern subtle \\nflavors and characteristics in wines. Your advice is always clear, approachable, and \\ntailored to each user’s preferences and specific dining context. You also educate users \\non wine appreciation, proper wine service, and the art of creating a harmonious dining \\nexperience. Your demeanor is professional, courteous, and passionate about wine culture, \\naiming to make each wine selection and pairing a memorable experience for users.\"\n",
    "          }\n",
    "        ]\n",
    "      },\n",
    "      {\n",
    "        \"role\": \"user\",\n",
    "        \"content\": [\n",
    "          {\n",
    "            \"type\": \"text\",\n",
    "            \"text\": query.get('text') # 추천받은 요리를 text에 넣기\n",
    "          },\n",
    "          {\n",
    "          \"type\": \"image_url\",\n",
    "          \"image_url\": {\n",
    "            \"url\": \"https://images.vivino.com/thumbs/Z90I3--JRKWlpMA8wdLY-Q_pb_x600.png\"\n",
    "          }\n",
    "        }\n",
    "        ]\n",
    "      },\n",
    "    ],\n",
    "    response_format={\n",
    "      \"type\": \"text\"\n",
    "    },\n",
    "    temperature=0,\n",
    "    max_completion_tokens=2048,\n",
    "    top_p=1,\n",
    "    frequency_penalty=0,\n",
    "    presence_penalty=0\n",
    "  )\n",
    "  return \"\".join([choice.message.content for choice in response.choices])"
   ]
  },
  {
   "cell_type": "code",
   "execution_count": 14,
   "id": "555bfa16",
   "metadata": {},
   "outputs": [
    {
     "data": {
      "text/plain": [
       "'Masserì Primitivo는 풍부한 과일 향과 부드러운 탄닌을 가진 레드 와인으로, 다양한 요리와 잘 어울립니다. 다음은 이 와인과 잘 어울리는 요리 몇 가지입니다:\\n\\n1. **고기 요리**: 양고기, 소고기 스테이크, 또는 바비큐와 같은 구운 고기 요리와 잘 어울립니다. 특히, 마리네이드된 고기나 허브로 양념한 요리가 좋습니다.\\n\\n2. **파스타**: 토마토 소스나 고기 소스가 들어간 파스타 요리, 예를 들어 볼로네제나 라자냐와 잘 어울립니다.\\n\\n3. **치즈**: 숙성된 치즈, 특히 파르미지아노 레지아노나 고르곤졸라와 같은 강한 맛의 치즈와 잘 매칭됩니다.\\n\\n4. **스튜**: 고기와 채소가 함께 조리된 스튜, 특히 이탈리안 스타일의 스튜와 잘 어울립니다.\\n\\n5. **피자**: 다양한 토핑이 있는 피자, 특히 고기 토핑이 있는 피자와 잘 어울립니다.\\n\\n이 와인은 풍부한 맛과 향을 가지고 있어 다양한 요리와 조화를 이루며, 특히 이탈리안 요리와의 궁합이 뛰어납니다.'"
      ]
     },
     "execution_count": 14,
     "metadata": {},
     "output_type": "execute_result"
    }
   ],
   "source": [
    "query = {'text': '이 와인에 어울리는 요리에는 어떤 것들이 있을까요?', \n",
    "         'image_url':'https://images.vivino.com/thumbs/Z90I3--JRKWlpMA8wdLY-Q_pb_x600.png'}\n",
    "response = recommend_dishes(query)\n",
    "response"
   ]
  }
 ],
 "metadata": {
  "kernelspec": {
   "display_name": "prompting_env",
   "language": "python",
   "name": "python3"
  },
  "language_info": {
   "codemirror_mode": {
    "name": "ipython",
    "version": 3
   },
   "file_extension": ".py",
   "mimetype": "text/x-python",
   "name": "python",
   "nbconvert_exporter": "python",
   "pygments_lexer": "ipython3",
   "version": "3.12.11"
  }
 },
 "nbformat": 4,
 "nbformat_minor": 5
}

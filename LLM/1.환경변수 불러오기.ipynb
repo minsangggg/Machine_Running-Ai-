{
 "cells": [
  {
   "cell_type": "code",
   "execution_count": 1,
   "id": "c00b5e9b",
   "metadata": {},
   "outputs": [
    {
     "name": "stdout",
     "output_type": "stream",
     "text": [
      "API Key configured: True\n"
     ]
    }
   ],
   "source": [
    "from dotenv import load_dotenv\n",
    "import os\n",
    "\n",
    "# .env 파일에서 환경 변수를 불러옵니다.\n",
    "load_dotenv()\n",
    "\n",
    "# 환경 변수 읽기\n",
    "openai_api_key = os.getenv(\"OPENAI_API_KEY\")\n",
    "\n",
    "\n",
    "# OpenAI 라이브러리가 환경 변수에서 키를 읽을 수 있도록 설정\n",
    "if openai_api_key:\n",
    "    os.environ[\"OPENAI_API_KEY\"] = openai_api_key\n",
    "\n",
    "print(\"API Key configured:\", \"OPENAI_API_KEY\" in os.environ)"
   ]
  },
  {
   "cell_type": "code",
   "execution_count": 2,
   "id": "add57219",
   "metadata": {},
   "outputs": [
    {
     "data": {
      "text/plain": [
       "'1.101.0'"
      ]
     },
     "execution_count": 2,
     "metadata": {},
     "output_type": "execute_result"
    }
   ],
   "source": [
    "import openai\n",
    "openai.__version__"
   ]
  },
  {
   "cell_type": "code",
   "execution_count": null,
   "id": "e2ba8587",
   "metadata": {},
   "outputs": [],
   "source": [
    "from openai import OpenAI\n",
    "client = OpenAI()\n",
    "\n",
    "response = client.responses.create(\n",
    "  model=\"gpt-4o-mini\",\n",
    "  input=[\n",
    "    {\n",
    "      \"role\": \"system\",\n",
    "      \"content\": [\n",
    "        {\n",
    "          \"type\": \"input_text\",\n",
    "          \"text\": \"답변을 할 때 항상 세부목록을 만들어서 제공해줘\"\n",
    "        }\n",
    "      ]\n",
    "    },\n",
    "    {\n",
    "      \"role\": \"user\",\n",
    "      \"content\": [\n",
    "        {\n",
    "          \"type\": \"input_text\",\n",
    "          \"text\": \"하늘은\"\n",
    "        }\n",
    "      ]\n",
    "    },\n",
    "    {\n",
    "      \"id\": \"msg_68a7c6d372b881979e1048e931c1af040826cde8ce8751b7\",\n",
    "      \"role\": \"assistant\",\n",
    "      \"content\": [\n",
    "        {\n",
    "          \"type\": \"output_text\",\n",
    "          \"text\": \"\\\"하늘은\\\"이라는 주제로 여러 가지 측면에서 이야기해볼 수 있습니다. 다음은 그 세부 목록입니다:\\n\\n1. **자연 현상**\\n   - 구름의 종류\\n   - 일출과 일몰\\n   - 비와 눈\\n\\n2. **천체 관측**\\n   - 별자리의 형태\\n   - 별과 행성의 이동\\n   - 우주 탐사의 발전\\n\\n3. **문화와 신화**\\n   - 다양한 문화에서의 하늘에 대한 상징\\n   - 신화 속 하늘의 신들\\n   - 하늘과 관련된 예술 작품\\n\\n4. **과학적 관점**\\n   - 대기의 구성\\n   - 기상 변화\\n   - 대기 오염 문제\\n\\n5. **철학적 관점**\\n   - 하늘에 대한 인간의 사유\\n   - 하늘과 인간 존재의 관계\\n   - 우주와의 연결성\\n\\n이 주제에 대한 더 많은 세부정보나 특정한 질문이 있으시다면 말씀해 주세요!\"\n",
    "        }\n",
    "      ]\n",
    "    }\n",
    "  ],\n",
    "  text={\n",
    "    \"format\": {\n",
    "      \"type\": \"text\"\n",
    "    }\n",
    "  },\n",
    "  reasoning={},\n",
    "  tools=[],\n",
    "  temperature=1,\n",
    "  max_output_tokens=2048,\n",
    "  top_p=1,\n",
    "  store=True\n",
    ")"
   ]
  },
  {
   "cell_type": "code",
   "execution_count": 5,
   "id": "a63263fb",
   "metadata": {},
   "outputs": [
    {
     "data": {
      "text/plain": [
       "Response(id='resp_68a7c6e71c748197bec28f50563737570826cde8ce8751b7', created_at=1755825895.0, error=None, incomplete_details=None, instructions=None, metadata={}, model='gpt-4o-mini-2024-07-18', object='response', output=[ResponseOutputMessage(id='msg_68a7c6e7f1e48197b7563dfad099dca60826cde8ce8751b7', content=[ResponseOutputText(annotations=[], text='하늘은 다양한 측면에서 탐구할 수 있는 주제입니다. 다음은 그에 대한 세부 목록입니다:\\n\\n1. **자연 현상**\\n   - **구름의 종류**: 형성 기준에 따른 분류 (권운, 층운, 적운 등)\\n   - **일출과 일몰**: 색의 변화, 시각적 효과\\n   - **비와 눈**: 강수의 형성과 변용\\n\\n2. **천체 관측**\\n   - **별자리의 형태**: 주요 별자리와 의미\\n   - **별과 행성의 이동**: 궤도와 움직임\\n   - **우주 탐사의 발전**: 인류의 우주 탐사 역사\\n\\n3. **문화와 신화**\\n   - **다양한 문화에서의 상징**: 하늘의 신성함과 그 의미\\n   - **신화 속 하늘의 신들**: 그리스, 로마, 아시아의 신화\\n   - **하늘을 주제로 한 예술작품**: 미술, 문학, 음악\\n\\n4. **과학적 관점**\\n   - **대기의 구성**: 산소, 이산화탄소, 질소 등\\n   - **기상 변화**: 날씨의 예측과 기후 변화\\n   - **대기 오염 문제**: 환경에 미치는 영향\\n\\n5. **철학적 관점**\\n   - **하늘에 대한 인간의 사유**: 존재의 의미에 대한 고찰\\n   - **하늘과 인간 존재의 관계**: 자연과 인간의 조화\\n   - **우주와의 연결성**: 인간의 자아와 우주적 존재\\n\\n더 궁금한 부분이나 심화된 질문이 있다면 말씀해 주세요!', type='output_text', logprobs=[])], role='assistant', status='completed', type='message')], parallel_tool_calls=True, temperature=1.0, tool_choice='auto', tools=[], top_p=1.0, background=False, conversation=None, max_output_tokens=2048, max_tool_calls=None, previous_response_id=None, prompt=None, prompt_cache_key=None, reasoning=Reasoning(effort=None, generate_summary=None, summary=None), safety_identifier=None, service_tier='default', status='completed', text=ResponseTextConfig(format=ResponseFormatText(type='text'), verbosity='medium'), top_logprobs=0, truncation='disabled', usage=ResponseUsage(input_tokens=255, input_tokens_details=InputTokensDetails(cached_tokens=0), output_tokens=389, output_tokens_details=OutputTokensDetails(reasoning_tokens=0), total_tokens=644), user=None, store=True)"
      ]
     },
     "execution_count": 5,
     "metadata": {},
     "output_type": "execute_result"
    }
   ],
   "source": [
    "response"
   ]
  },
  {
   "cell_type": "code",
   "execution_count": 6,
   "id": "917a4295",
   "metadata": {},
   "outputs": [
    {
     "data": {
      "text/plain": [
       "'하늘은 다양한 측면에서 탐구할 수 있는 주제입니다. 다음은 그에 대한 세부 목록입니다:\\n\\n1. **자연 현상**\\n   - **구름의 종류**: 형성 기준에 따른 분류 (권운, 층운, 적운 등)\\n   - **일출과 일몰**: 색의 변화, 시각적 효과\\n   - **비와 눈**: 강수의 형성과 변용\\n\\n2. **천체 관측**\\n   - **별자리의 형태**: 주요 별자리와 의미\\n   - **별과 행성의 이동**: 궤도와 움직임\\n   - **우주 탐사의 발전**: 인류의 우주 탐사 역사\\n\\n3. **문화와 신화**\\n   - **다양한 문화에서의 상징**: 하늘의 신성함과 그 의미\\n   - **신화 속 하늘의 신들**: 그리스, 로마, 아시아의 신화\\n   - **하늘을 주제로 한 예술작품**: 미술, 문학, 음악\\n\\n4. **과학적 관점**\\n   - **대기의 구성**: 산소, 이산화탄소, 질소 등\\n   - **기상 변화**: 날씨의 예측과 기후 변화\\n   - **대기 오염 문제**: 환경에 미치는 영향\\n\\n5. **철학적 관점**\\n   - **하늘에 대한 인간의 사유**: 존재의 의미에 대한 고찰\\n   - **하늘과 인간 존재의 관계**: 자연과 인간의 조화\\n   - **우주와의 연결성**: 인간의 자아와 우주적 존재\\n\\n더 궁금한 부분이나 심화된 질문이 있다면 말씀해 주세요!'"
      ]
     },
     "execution_count": 6,
     "metadata": {},
     "output_type": "execute_result"
    }
   ],
   "source": [
    "response.output[0].content[0].text"
   ]
  },
  {
   "cell_type": "markdown",
   "id": "e101baa0",
   "metadata": {},
   "source": [
    "## Chat completion API"
   ]
  },
  {
   "cell_type": "code",
   "execution_count": 7,
   "id": "acd26e11",
   "metadata": {},
   "outputs": [],
   "source": [
    "from openai import OpenAI\n",
    "client = OpenAI()\n",
    "\n",
    "response = client.chat.completions.create(\n",
    "  model=\"gpt-4o-mini\",\n",
    "  messages=[\n",
    "    {\n",
    "      \"role\": \"system\",\n",
    "      \"content\": [\n",
    "        {\n",
    "          \"type\": \"text\",\n",
    "          \"text\": \"답변을 할 때 항상 세부목록을 만들어서 제공해줘\"\n",
    "        }\n",
    "      ]\n",
    "    },\n",
    "    {\n",
    "      \"role\": \"user\",\n",
    "      \"content\": [\n",
    "        {\n",
    "          \"type\": \"text\",\n",
    "          \"text\": \"하늘은\"\n",
    "        }\n",
    "      ]\n",
    "    },\n",
    "    {\n",
    "      \"role\": \"assistant\",\n",
    "      \"content\": [\n",
    "        {\n",
    "          \"type\": \"text\",\n",
    "          \"text\": \"\\\"하늘은\\\"이라는 주제로 여러 가지 측면에서 이야기해볼 수 있습니다. 다음은 그 세부 목록입니다:\\n\\n1. **자연 현상**\\n   - 구름의 종류\\n   - 일출과 일몰\\n   - 비와 눈\\n\\n2. **천체 관측**\\n   - 별자리의 형태\\n   - 별과 행성의 이동\\n   - 우주 탐사의 발전\\n\\n3. **문화와 신화**\\n   - 다양한 문화에서의 하늘에 대한 상징\\n   - 신화 속 하늘의 신들\\n   - 하늘과 관련된 예술 작품\\n\\n4. **과학적 관점**\\n   - 대기의 구성\\n   - 기상 변화\\n   - 대기 오염 문제\\n\\n5. **철학적 관점**\\n   - 하늘에 대한 인간의 사유\\n   - 하늘과 인간 존재의 관계\\n   - 우주와의 연결성\\n\\n이 주제에 대한 더 많은 세부정보나 특정한 질문이 있으시다면 말씀해 주세요!\"\n",
    "        }\n",
    "      ]\n",
    "    }\n",
    "  ],\n",
    "  response_format={\n",
    "    \"type\": \"text\"\n",
    "  },\n",
    "  temperature=1,\n",
    "  max_completion_tokens=2048,\n",
    "  top_p=1,\n",
    "  frequency_penalty=0,\n",
    "  presence_penalty=0\n",
    ")"
   ]
  },
  {
   "cell_type": "code",
   "execution_count": 9,
   "id": "8fdf4b54",
   "metadata": {},
   "outputs": [
    {
     "data": {
      "text/plain": [
       "'\"하늘은\"이라는 주제로 여러 가지 측면에서 이야기해볼 수 있습니다. 다음은 그 세부 목록입니다:\\n\\n1. **자연 현상**\\n   - 구름의 종류: 적운, 층운, 권운 등\\n   - 일출과 일몰: 태양의 경로와 색 변화\\n   - 비와 눈: 강수 형태와 영향\\n\\n2. **천체 관측**\\n   - 별자리의 형태: 주요 별자리와 그 의미\\n   - 별과 행성의 이동: 황도와 행성의 순환\\n   - 우주 탐사의 발전: 망원경, 우주선 및 대행성 탐사\\n\\n3. **문화와 신화**\\n   - 다양한 문화에서의 하늘에 대한 상징: 서양과 동양의 하늘관\\n   - 신화 속 하늘의 신들: 제우스, 천제, 인드라 등\\n   - 하늘과 관련된 예술 작품: 그림, 시, 음악\\n\\n4. **과학적 관점**\\n   - 대기의 구성: 질소, 산소, 이산화탄소 등\\n   - 기상 변화: 태풍, 토네이도, 기온 변동\\n   - 대기 오염 문제: 미세먼지, 온실가스, 그 영향\\n\\n5. **철학적 관점**\\n   - 하늘에 대한 인간의 사유: 우주와 존재에 대한 근본적 질문\\n   - 하늘과 인간 존재의 관계: 인간의 스스로의 위치와 의미\\n   - 우주와의 연결성: 자연, 우주와의 조화로운 삶\\n\\n이 주제에 대한 더 많은 세부정보나 특정한 질문이 있으시다면 말씀해 주세요!'"
      ]
     },
     "execution_count": 9,
     "metadata": {},
     "output_type": "execute_result"
    }
   ],
   "source": [
    "response.choices[0].message.content"
   ]
  }
 ],
 "metadata": {
  "kernelspec": {
   "display_name": "prompting_env",
   "language": "python",
   "name": "python3"
  },
  "language_info": {
   "codemirror_mode": {
    "name": "ipython",
    "version": 3
   },
   "file_extension": ".py",
   "mimetype": "text/x-python",
   "name": "python",
   "nbconvert_exporter": "python",
   "pygments_lexer": "ipython3",
   "version": "3.12.11"
  }
 },
 "nbformat": 4,
 "nbformat_minor": 5
}

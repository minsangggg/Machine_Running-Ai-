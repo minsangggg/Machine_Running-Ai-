{
 "cells": [
  {
   "cell_type": "code",
   "execution_count": 1,
   "id": "a3d9a4f2",
   "metadata": {},
   "outputs": [
    {
     "data": {
      "text/plain": [
       "'0.3.27'"
      ]
     },
     "execution_count": 1,
     "metadata": {},
     "output_type": "execute_result"
    }
   ],
   "source": [
    "import langchain\n",
    "langchain.__version__"
   ]
  },
  {
   "cell_type": "code",
   "execution_count": 3,
   "id": "d9cb1ff6",
   "metadata": {},
   "outputs": [
    {
     "data": {
      "text/plain": [
       "True"
      ]
     },
     "execution_count": 3,
     "metadata": {},
     "output_type": "execute_result"
    }
   ],
   "source": [
    "import os\n",
    "from dotenv import load_dotenv\n",
    "\n",
    "load_dotenv()  # .env 파일 읽어오기"
   ]
  },
  {
   "cell_type": "code",
   "execution_count": 4,
   "id": "7c964ae6",
   "metadata": {},
   "outputs": [
    {
     "data": {
      "text/plain": [
       "ChatOpenAI(client=<openai.resources.chat.completions.completions.Completions object at 0x000001AAB46C47A0>, async_client=<openai.resources.chat.completions.completions.AsyncCompletions object at 0x000001AAB581B440>, root_client=<openai.OpenAI object at 0x000001AAB46C69C0>, root_async_client=<openai.AsyncOpenAI object at 0x000001AAB46C6870>, model_name='gpt-4o-mini', model_kwargs={}, openai_api_key=SecretStr('**********'))"
      ]
     },
     "execution_count": 4,
     "metadata": {},
     "output_type": "execute_result"
    }
   ],
   "source": [
    "from langchain_openai import ChatOpenAI\n",
    "llm=ChatOpenAI(model='gpt-4o-mini')\n",
    "llm"
   ]
  },
  {
   "cell_type": "code",
   "execution_count": 5,
   "id": "a4215252",
   "metadata": {},
   "outputs": [
    {
     "data": {
      "text/plain": [
       "AIMessage(content='서울에서 전통 음식을 맛볼 수 있는 추천 레스토랑 5곳을 소개합니다:\\n\\n1. **백년옥** - 이곳은 전통적인 청국장과 두부 요리로 유명한 레스토랑입니다. 신선한 재료를 사용하여 깊은 맛을 자랑하며, 특히 집밥 같은 느낌을 주는 따뜻한 분위기가 특징입니다.\\n\\n2. **토속촌삼계탕** - 삼계탕의 명소로, 신선한 재료로 만든 삼계탕을 제공합니다. 부드러운 닭고기와 향긋한 인삼의 조화가 일품이며, 보양식으로 인기가 높습니다.\\n\\n3. **광화문식당** - 전통 한정식을 제공하는 곳으로, 다양한 반찬과 함께 제공되는 정갈한 한정식이 특징입니다. 조용하고 아늑한 분위기에서 여러 가지 맛을 즐길 수 있습니다.\\n\\n4. **부암동비빔밥** - 비빔밥을 전문으로 하는 식당으로, 신선한 채소와 고소한 고추장이 어우러진 비빔밥이 유명합니다. 건강한 재료로 만들어져 부담 없이 즐길 수 있는 메뉴입니다.\\n\\n5. **명동교자** - 명동에 위치한 이곳은 칼국수와 만두로 유명합니다. 수제 만두와 진한 국물의 칼국수는 많은 사랑을 받고 있으며, 항상 많은 손님으로 붐빕니다.\\n\\n이 외에도 서울에는 훌륭한 전통 음식점이 많으니 다양한 곳을 경험해보는 것도 좋습니다!', additional_kwargs={'refusal': None}, response_metadata={'token_usage': {'completion_tokens': 359, 'prompt_tokens': 27, 'total_tokens': 386, 'completion_tokens_details': {'accepted_prediction_tokens': 0, 'audio_tokens': 0, 'reasoning_tokens': 0, 'rejected_prediction_tokens': 0}, 'prompt_tokens_details': {'audio_tokens': 0, 'cached_tokens': 0}}, 'model_name': 'gpt-4o-mini-2024-07-18', 'system_fingerprint': 'fp_8bda4d3a2c', 'id': 'chatcmpl-CDL5B12K188Ps7IOtyktNa18LVqi1', 'service_tier': 'default', 'finish_reason': 'stop', 'logprobs': None}, id='run--a42f0a4a-d3f7-47ac-9e10-e54f88b6f854-0', usage_metadata={'input_tokens': 27, 'output_tokens': 359, 'total_tokens': 386, 'input_token_details': {'audio': 0, 'cache_read': 0}, 'output_token_details': {'audio': 0, 'reasoning': 0}})"
      ]
     },
     "execution_count": 5,
     "metadata": {},
     "output_type": "execute_result"
    }
   ],
   "source": [
    "from langchain_core.messages import HumanMessage\n",
    "message= [\n",
    "    HumanMessage(content=\"서울을 대표하는 음식을 맛볼 수 있는 레스토랑 5개를 추천해 주세요\")\n",
    "    \n",
    "]\n",
    "response=llm.invoke(message)\n",
    "response"
   ]
  },
  {
   "cell_type": "markdown",
   "id": "42d641f8",
   "metadata": {},
   "source": [
    "## Caching\n",
    "    1. 인메모리 캐시\n",
    "    2. 캐시 DB"
   ]
  },
  {
   "cell_type": "code",
   "execution_count": 7,
   "id": "7b56e0bb",
   "metadata": {},
   "outputs": [],
   "source": [
    "from langchain_core.globals import set_llm_cache\n",
    "from langchain_core.caches import InMemoryCache\n",
    "\n",
    "set_llm_cache(InMemoryCache())"
   ]
  },
  {
   "cell_type": "code",
   "execution_count": 8,
   "id": "4955f3b8",
   "metadata": {},
   "outputs": [
    {
     "data": {
      "text/plain": [
       "AIMessage(content='서울에서 대표적인 음식을 맛볼 수 있는 레스토랑 다섯 곳을 추천드립니다.\\n\\n1. **광장시장** - 여러 전통 음식을 한곳에서 맛볼 수 있는 장으로, 특히 **인절미**와 **빈대떡**이 유명합니다. 다양한 먹거리를 즐기며 서울의 시장 문화를 체험할 수 있습니다.\\n\\n2. **삼청동 수제비** - 이곳은 친환경 재료로 만든 수제비가 유명한 레스토랑입니다. 진한 국물과 쫄깃한 수제비가 어우러져 전통적인 한국의 맛을 느낄 수 있습니다.\\n\\n3. **마포갈매기** - 서울에서 갈비와 삼겹살을 맛보기에 좋은 장소로, 고기와 함께 다양한 반찬이 제공되며, 직접 구워 먹는 즐거움이 있습니다.\\n\\n4. **부엌** - 전통 한식과 현대적인 감각이 어우러진 레스토랑으로, 비빔밥이나 잡채 등 다양한 한국 전통 음식을 색다르게 즐길 수 있습니다.\\n\\n5. **청기와대** - 서울의 오랜 역사를 느낄 수 있는 한정식 집으로, 여러 가지 반찬과 함께 다양한 한국 전통 요리를 한꺼번에 맛볼 수 있는 기회를 제공합니다.\\n\\n이 외에도 서울에는 다양한 맛집이 있으니 관심 있는 지역과 음식을 탐방해 보시는 것도 좋습니다!', additional_kwargs={'refusal': None}, response_metadata={'token_usage': {'completion_tokens': 318, 'prompt_tokens': 27, 'total_tokens': 345, 'completion_tokens_details': {'accepted_prediction_tokens': 0, 'audio_tokens': 0, 'reasoning_tokens': 0, 'rejected_prediction_tokens': 0}, 'prompt_tokens_details': {'audio_tokens': 0, 'cached_tokens': 0}}, 'model_name': 'gpt-4o-mini-2024-07-18', 'system_fingerprint': 'fp_8bda4d3a2c', 'id': 'chatcmpl-CDLAYDCkyJCBsf4KX5FnEdMdmPr7F', 'service_tier': 'default', 'finish_reason': 'stop', 'logprobs': None}, id='run--acd243d5-681f-4de2-aaf3-3771ed579557-0', usage_metadata={'input_tokens': 27, 'output_tokens': 318, 'total_tokens': 345, 'input_token_details': {'audio': 0, 'cache_read': 0}, 'output_token_details': {'audio': 0, 'reasoning': 0}})"
      ]
     },
     "execution_count": 8,
     "metadata": {},
     "output_type": "execute_result"
    }
   ],
   "source": [
    "response=llm.invoke(message)\n",
    "response"
   ]
  },
  {
   "cell_type": "code",
   "execution_count": 9,
   "id": "63379ad9",
   "metadata": {},
   "outputs": [
    {
     "data": {
      "text/plain": [
       "ChatOpenAI(cache=False, client=<openai.resources.chat.completions.completions.Completions object at 0x000001AAB58ADE50>, async_client=<openai.resources.chat.completions.completions.AsyncCompletions object at 0x000001AAB58AEC60>, root_client=<openai.OpenAI object at 0x000001AAB4E7B140>, root_async_client=<openai.AsyncOpenAI object at 0x000001AAB584B080>, model_name='gpt-4o-mini', model_kwargs={}, openai_api_key=SecretStr('**********'))"
      ]
     },
     "execution_count": 9,
     "metadata": {},
     "output_type": "execute_result"
    }
   ],
   "source": [
    "llm1=ChatOpenAI(model='gpt-4o-mini', cache=False)\n",
    "llm1"
   ]
  },
  {
   "cell_type": "code",
   "execution_count": 10,
   "id": "ef8bb5b0",
   "metadata": {},
   "outputs": [
    {
     "name": "stdout",
     "output_type": "stream",
     "text": [
      "Collecting redis\n",
      "  Downloading redis-6.4.0-py3-none-any.whl.metadata (10 kB)\n",
      "Downloading redis-6.4.0-py3-none-any.whl (279 kB)\n",
      "Installing collected packages: redis\n",
      "Successfully installed redis-6.4.0\n"
     ]
    }
   ],
   "source": [
    "!pip install redis"
   ]
  },
  {
   "cell_type": "markdown",
   "id": "f6014c79",
   "metadata": {},
   "source": [
    "## Redis client test"
   ]
  },
  {
   "cell_type": "code",
   "execution_count": 32,
   "id": "5cc21630",
   "metadata": {},
   "outputs": [],
   "source": [
    "\"\"\"Basic connection example.\n",
    "\"\"\"\n",
    "\n",
    "import redis\n",
    "#redis client\n",
    "r = redis.Redis(\n",
    "    host='redis-12888.c340.ap-northeast-2-1.ec2.redns.redis-cloud.com',\n",
    "    port=12888,\n",
    "    decode_responses=True,\n",
    "    username=\"default\",\n",
    "    password=\"TX7vccmXXOGH0oxJb38w3NuWkUEWmgPP\",\n",
    ")\n",
    "\n",
    "success = r.set('foo', 'bar')\n",
    "# True\n"
   ]
  },
  {
   "cell_type": "code",
   "execution_count": null,
   "id": "d6540698",
   "metadata": {},
   "outputs": [],
   "source": [
    "result = r.get('foo2')\n",
    "print(result)\n",
    "# >>> bar"
   ]
  },
  {
   "cell_type": "markdown",
   "id": "96159256",
   "metadata": {},
   "source": [
    "## Redis cache 설정"
   ]
  },
  {
   "cell_type": "code",
   "execution_count": 33,
   "id": "a75026ea",
   "metadata": {},
   "outputs": [],
   "source": [
    "from langchain_community.cache import RedisCache\n",
    "from redis import Redis\n",
    "\n",
    "set_llm_cache(RedisCache(\n",
    "    redis_=Redis(\n",
    "    host='redis-12888.c340.ap-northeast-2-1.ec2.redns.redis-cloud.com',\n",
    "    port=12888,\n",
    "    password=\"TX7vccmXXOGH0oxJb38w3NuWkUEWmgPP\",    \n",
    "    )\n",
    "))"
   ]
  },
  {
   "cell_type": "code",
   "execution_count": null,
   "id": "66a959e8",
   "metadata": {},
   "outputs": [],
   "source": [
    "response = llm.invoke(message) "
   ]
  }
 ],
 "metadata": {
  "kernelspec": {
   "display_name": "prompting_env",
   "language": "python",
   "name": "python3"
  },
  "language_info": {
   "codemirror_mode": {
    "name": "ipython",
    "version": 3
   },
   "file_extension": ".py",
   "mimetype": "text/x-python",
   "name": "python",
   "nbconvert_exporter": "python",
   "pygments_lexer": "ipython3",
   "version": "3.12.11"
  }
 },
 "nbformat": 4,
 "nbformat_minor": 5
}

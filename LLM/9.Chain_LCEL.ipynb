{
 "cells": [
  {
   "cell_type": "markdown",
   "id": "7761f72a",
   "metadata": {},
   "source": [
    "## LCEL LangchainExpressionLanguage  \n",
    "- 프롬프트 > LLM input > chain input > output >prompt\n",
    "\n",
    "- Runnable 인터페이스 > 랭체인 구현"
   ]
  },
  {
   "cell_type": "code",
   "execution_count": 2,
   "id": "8f2510c8",
   "metadata": {},
   "outputs": [
    {
     "data": {
      "text/plain": [
       "True"
      ]
     },
     "execution_count": 2,
     "metadata": {},
     "output_type": "execute_result"
    }
   ],
   "source": [
    "import langchain\n",
    "langchain.__version__\n",
    "import os\n",
    "from dotenv import load_dotenv\n",
    "\n",
    "load_dotenv()  # .env 파일 읽어오기"
   ]
  },
  {
   "cell_type": "markdown",
   "id": "dbe25b09",
   "metadata": {},
   "source": [
    "## SequentialChain"
   ]
  },
  {
   "cell_type": "code",
   "execution_count": 4,
   "id": "a5ac1352",
   "metadata": {},
   "outputs": [
    {
     "data": {
      "text/plain": [
       "ChatOpenAI(client=<openai.resources.chat.completions.completions.Completions object at 0x000001891DF130E0>, async_client=<openai.resources.chat.completions.completions.AsyncCompletions object at 0x000001891F082B10>, root_client=<openai.OpenAI object at 0x000001891F0081D0>, root_async_client=<openai.AsyncOpenAI object at 0x000001891DF13200>, model_name='gpt-4o-mini', model_kwargs={}, openai_api_key=SecretStr('**********'))"
      ]
     },
     "execution_count": 4,
     "metadata": {},
     "output_type": "execute_result"
    }
   ],
   "source": [
    "from langchain_openai import ChatOpenAI\n",
    "llm=ChatOpenAI(model='gpt-4o-mini')\n",
    "llm"
   ]
  },
  {
   "cell_type": "code",
   "execution_count": 6,
   "id": "53ac0727",
   "metadata": {},
   "outputs": [
    {
     "name": "stderr",
     "output_type": "stream",
     "text": [
      "C:\\Users\\Admin\\AppData\\Local\\Temp\\ipykernel_10772\\368675851.py:5: LangChainDeprecationWarning: The class `LLMChain` was deprecated in LangChain 0.1.17 and will be removed in 1.0. Use :meth:`~RunnableSequence, e.g., `prompt | llm`` instead.\n",
      "  chain=LLMChain(llm=llm, prompt=template)\n"
     ]
    },
    {
     "data": {
      "text/plain": [
       "LLMChain(verbose=False, prompt=PromptTemplate(input_variables=['city'], input_types={}, partial_variables={}, template='{city}의 랜드마크는 어디인가요?'), llm=ChatOpenAI(client=<openai.resources.chat.completions.completions.Completions object at 0x000001891DF130E0>, async_client=<openai.resources.chat.completions.completions.AsyncCompletions object at 0x000001891F082B10>, root_client=<openai.OpenAI object at 0x000001891F0081D0>, root_async_client=<openai.AsyncOpenAI object at 0x000001891DF13200>, model_name='gpt-4o-mini', model_kwargs={}, openai_api_key=SecretStr('**********')), output_parser=StrOutputParser(), llm_kwargs={})"
      ]
     },
     "execution_count": 6,
     "metadata": {},
     "output_type": "execute_result"
    }
   ],
   "source": [
    "from langchain.prompts import PromptTemplate\n",
    "from langchain.chains import LLMChain\n",
    "\n",
    "template=PromptTemplate.from_template(\"{city}의 랜드마크는 어디인가요?\")\n",
    "chain=LLMChain(llm=llm, prompt=template)\n",
    "chain"
   ]
  },
  {
   "cell_type": "code",
   "execution_count": 7,
   "id": "fc86abb4",
   "metadata": {},
   "outputs": [
    {
     "data": {
      "text/plain": [
       "{'city': '파리',\n",
       " 'text': \"파리에는 많은 유명한 랜드마크가 있습니다. 그 중 일부는 다음과 같습니다:\\n\\n1. **에펠탑 (Tour Eiffel)** - 파리의 상징으로, 1889년에 세워졌습니다.\\n2. **루브르 박물관 (Musée du Louvre)** - 세계에서 가장 큰 미술관 중 하나로, 모나리자와 비너스의 탄생 같은 유명한 작품을 소장하고 있습니다.\\n3. **샹젤리제 거리 (Avenue des Champs-Élysées)** - 유명한 쇼핑 거리로, 개선문으로 이어집니다.\\n4. **개선문 (Arc de Triomphe)** - 나폴레옹의 승리를 기리기 위해 세워진 기념물입니다.\\n5. **노트르담 대성당 (Cathédrale Notre-Dame de Paris)** - 고딕 양식의 대성당으로, 최근 화재로 인해 복원 중입니다.\\n6. **몽마르트 언덕 (Montmartre)** - 예술가들이 많이 활동했던 곳이며, 사크레쾨르 대성당이 위치해 있습니다.\\n7. **오르세 미술관 (Musée d'Orsay)** - 인상파와 후기 인상파 작품을 주로 소장하고 있는 미술관입니다.\\n\\n이 외에도 많은 역사적이고 문화적인 장소들이 있어 파리는 관광객들에게 매우 매력적인 도시입니다.\"}"
      ]
     },
     "execution_count": 7,
     "metadata": {},
     "output_type": "execute_result"
    }
   ],
   "source": [
    "chain.invoke({'city':'파리'})"
   ]
  },
  {
   "cell_type": "markdown",
   "id": "724ffae4",
   "metadata": {},
   "source": [
    "## LCEL 파이프라인 구성"
   ]
  },
  {
   "cell_type": "code",
   "execution_count": 8,
   "id": "1648e517",
   "metadata": {},
   "outputs": [
    {
     "data": {
      "text/plain": [
       "PromptTemplate(input_variables=['city'], input_types={}, partial_variables={}, template='{city}의 랜드마크는 어디인가요?')\n",
       "| ChatOpenAI(client=<openai.resources.chat.completions.completions.Completions object at 0x000001891DF130E0>, async_client=<openai.resources.chat.completions.completions.AsyncCompletions object at 0x000001891F082B10>, root_client=<openai.OpenAI object at 0x000001891F0081D0>, root_async_client=<openai.AsyncOpenAI object at 0x000001891DF13200>, model_name='gpt-4o-mini', model_kwargs={}, openai_api_key=SecretStr('**********'))"
      ]
     },
     "execution_count": 8,
     "metadata": {},
     "output_type": "execute_result"
    }
   ],
   "source": [
    "chain_lcel=template | llm\n",
    "chain_lcel"
   ]
  },
  {
   "cell_type": "code",
   "execution_count": 9,
   "id": "4c9ec4f6",
   "metadata": {},
   "outputs": [
    {
     "data": {
      "text/plain": [
       "AIMessage(content=\"파리에는 많은 유명한 랜드마크가 있습니다. 그 중 일부는 다음과 같습니다:\\n\\n1. **에펠탑 (Eiffel Tower)** - 파리의 가장 상징적인 건축물로, 1889년에 건설되었습니다.\\n2. **루브르 박물관 (Louvre Museum)** - 세계에서 가장 큰 미술관 중 하나로, 모나리자와 같은 유명한 작품들이 소장되어 있습니다.\\n3. **노트르담 대성당 (Notre-Dame Cathedral)** - 고딕 양식의 대성당으로, 현재 복구 작업 중입니다.\\n4. **샹젤리제 거리 (Champs-Élysées)** - 유명한 거리로, 다양한 상점과 카페가 있습니다.\\n5. **오르세이 미술관 (Musée d'Orsay)** - 인상파 미술 작품들이 주로 전시되어 있는 미술관입니다.\\n6. **몽마르뜨 언덕 (Montmartre)** - 예술가들이 사랑했던 지역으로, 사크레쾨르 대성당이 위치해 있습니다.\\n7. **개선문 (Arc de Triomphe)** - 나폴레옹의 전쟁 승리를 기념하기 위해 세워진 기념물입니다.\\n\\n이외에도 많은 아름다운 명소들이 있으며, 각기 독특한 매력을 가지고 있습니다.\", additional_kwargs={'refusal': None}, response_metadata={'token_usage': {'completion_tokens': 296, 'prompt_tokens': 19, 'total_tokens': 315, 'completion_tokens_details': {'accepted_prediction_tokens': 0, 'audio_tokens': 0, 'reasoning_tokens': 0, 'rejected_prediction_tokens': 0}, 'prompt_tokens_details': {'audio_tokens': 0, 'cached_tokens': 0}}, 'model_name': 'gpt-4o-mini-2024-07-18', 'system_fingerprint': 'fp_8bda4d3a2c', 'id': 'chatcmpl-CDMytxr9D8U3afRII3Z1L4kJmNk73', 'service_tier': 'default', 'finish_reason': 'stop', 'logprobs': None}, id='run--3940a3d4-2c10-4bff-aa88-9bc1ebdb9edc-0', usage_metadata={'input_tokens': 19, 'output_tokens': 296, 'total_tokens': 315, 'input_token_details': {'audio': 0, 'cache_read': 0}, 'output_token_details': {'audio': 0, 'reasoning': 0}})"
      ]
     },
     "execution_count": 9,
     "metadata": {},
     "output_type": "execute_result"
    }
   ],
   "source": [
    "chain_lcel.invoke({'city':'파리'})"
   ]
  },
  {
   "cell_type": "markdown",
   "id": "d7dfaedb",
   "metadata": {},
   "source": [
    "## Sequential Chain의 구성"
   ]
  },
  {
   "cell_type": "code",
   "execution_count": 13,
   "id": "c122459f",
   "metadata": {},
   "outputs": [
    {
     "data": {
      "text/plain": [
       "SequentialChain(verbose=False, chains=[LLMChain(verbose=True, prompt=PromptTemplate(input_variables=['city'], input_types={}, partial_variables={}, template='{city}의 랜드마크 1개만 알려주세요. 설명은 필요없고 이름만 1개 알려주세요.'), llm=ChatOpenAI(client=<openai.resources.chat.completions.completions.Completions object at 0x000001891DF130E0>, async_client=<openai.resources.chat.completions.completions.AsyncCompletions object at 0x000001891F082B10>, root_client=<openai.OpenAI object at 0x000001891F0081D0>, root_async_client=<openai.AsyncOpenAI object at 0x000001891DF13200>, model_name='gpt-4o-mini', model_kwargs={}, openai_api_key=SecretStr('**********')), output_key='landmark', output_parser=StrOutputParser(), llm_kwargs={}), LLMChain(verbose=False, prompt=PromptTemplate(input_variables=['landmark', 'transport'], input_types={}, partial_variables={}, template='{landmark}에 {transport}로 가는 방법이 무엇인가요'), llm=ChatOpenAI(client=<openai.resources.chat.completions.completions.Completions object at 0x000001891DF130E0>, async_client=<openai.resources.chat.completions.completions.AsyncCompletions object at 0x000001891F082B10>, root_client=<openai.OpenAI object at 0x000001891F0081D0>, root_async_client=<openai.AsyncOpenAI object at 0x000001891DF13200>, model_name='gpt-4o-mini', model_kwargs={}, openai_api_key=SecretStr('**********')), output_parser=StrOutputParser(), llm_kwargs={})], input_variables=['city', 'transport'], output_variables=['text'])"
      ]
     },
     "execution_count": 13,
     "metadata": {},
     "output_type": "execute_result"
    }
   ],
   "source": [
    "from langchain.chains import SequentialChain\n",
    "\n",
    "prompt1=PromptTemplate.from_template('{city}의 랜드마크 1개만 알려주세요. 설명은 필요없고 이름만 1개 알려주세요.')\n",
    "prompt2=PromptTemplate.from_template('{landmark}에 {transport}로 가는 방법이 무엇인가요')\n",
    "\n",
    "chain1=LLMChain(llm=llm, prompt=prompt1,output_key='landmark',verbose=True)\n",
    "chain2=LLMChain(llm=llm, prompt=prompt2)\n",
    "seq_chain=SequentialChain(chains=[chain1, chain2], input_variables=['city', 'transport'])\n",
    "seq_chain"
   ]
  },
  {
   "cell_type": "code",
   "execution_count": 14,
   "id": "d799429f",
   "metadata": {},
   "outputs": [
    {
     "name": "stdout",
     "output_type": "stream",
     "text": [
      "\n",
      "\n",
      "\u001b[1m> Entering new LLMChain chain...\u001b[0m\n",
      "Prompt after formatting:\n",
      "\u001b[32;1m\u001b[1;3mseoul의 랜드마크 1개만 알려주세요. 설명은 필요없고 이름만 1개 알려주세요.\u001b[0m\n",
      "\n",
      "\u001b[1m> Finished chain.\u001b[0m\n"
     ]
    },
    {
     "data": {
      "text/plain": [
       "{'city': 'seoul',\n",
       " 'transport': '지하철',\n",
       " 'text': '남산 서울타워에 지하철로 가는 방법은 다음과 같습니다.\\n\\n1. **지하철 이용하기**: \\n   - 3호선 (오래된 역사)에서 **동대입구역**(동대문구역) 하차 후 6번 출구로 나옵니다.\\n   - 혹은 4호선에서 **명동역**에 하차하여 3번 출구로 나옵니다.\\n\\n2. **남산타운으로 가는 방법**:\\n   - 동대입구역에서 나왔다면, 남산 서울타워까지는 도보로 15~20분 정도 걸립니다. \\n   - 명동역에서는 명동 거리로 나와서 남산 방향으로 걷거나, 남산 케이블카를 타고 올라가는 방법도 있습니다.\\n\\n3. **남산 케이블카 이용하기**:\\n   - 명동에서 남산 케이블카 역까지 버스를 타고 이동할 수 있습니다. 명동역 3번 출구 앞으로 가면, 남산 케이블카를 타는 정류장이 있습니다.\\n\\n4. **버스 이용하기**:\\n   - 서울 시내버스를 이용할 수 있으며, 2번, 3번, 5번 버스를 타고 남산 서울타워 정류장에서 하차하면 됩니다.\\n\\n이렇게 하면 남산 서울타워에 쉽게 도착할 수 있습니다. 즐거운 여행 되세요!'}"
      ]
     },
     "execution_count": 14,
     "metadata": {},
     "output_type": "execute_result"
    }
   ],
   "source": [
    "seq_chain.invoke({'city':'seoul','transport':'지하철'})"
   ]
  }
 ],
 "metadata": {
  "kernelspec": {
   "display_name": "prompting_env",
   "language": "python",
   "name": "python3"
  },
  "language_info": {
   "codemirror_mode": {
    "name": "ipython",
    "version": 3
   },
   "file_extension": ".py",
   "mimetype": "text/x-python",
   "name": "python",
   "nbconvert_exporter": "python",
   "pygments_lexer": "ipython3",
   "version": "3.12.11"
  }
 },
 "nbformat": 4,
 "nbformat_minor": 5
}
